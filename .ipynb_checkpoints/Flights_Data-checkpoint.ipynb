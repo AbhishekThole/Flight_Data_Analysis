{
 "cells": [
  {
   "cell_type": "code",
   "execution_count": 7,
   "id": "6b476e48-346c-4524-9151-05267b59fb7c",
   "metadata": {},
   "outputs": [
    {
     "name": "stdout",
     "output_type": "stream",
     "text": [
      "Collecting pandas_profiling\n",
      "  Downloading pandas_profiling-3.6.6-py2.py3-none-any.whl (324 kB)\n",
      "Collecting ydata-profiling\n",
      "  Downloading ydata_profiling-4.3.1-py2.py3-none-any.whl (352 kB)\n",
      "Requirement already satisfied: requests<3,>=2.24.0 in c:\\users\\micron\\appdata\\local\\programs\\python\\python39\\lib\\site-packages (from ydata-profiling->pandas_profiling) (2.26.0)\n",
      "Collecting pydantic<2,>=1.8.1\n",
      "  Downloading pydantic-1.10.11-cp39-cp39-win_amd64.whl (2.2 MB)\n",
      "Collecting wordcloud>=1.9.1\n",
      "  Downloading wordcloud-1.9.2-cp39-cp39-win_amd64.whl (153 kB)\n",
      "Requirement already satisfied: matplotlib<4,>=3.2 in c:\\users\\micron\\appdata\\local\\programs\\python\\python39\\lib\\site-packages (from ydata-profiling->pandas_profiling) (3.5.1)\n",
      "Collecting htmlmin==0.1.12\n",
      "  Downloading htmlmin-0.1.12.tar.gz (19 kB)\n",
      "Collecting visions[type_image_path]==0.7.5\n",
      "  Downloading visions-0.7.5-py3-none-any.whl (102 kB)\n",
      "Collecting statsmodels<1,>=0.13.2\n",
      "  Downloading statsmodels-0.14.0-cp39-cp39-win_amd64.whl (9.4 MB)\n",
      "Requirement already satisfied: pandas!=1.4.0,<2.1,>1.1 in c:\\users\\micron\\appdata\\local\\programs\\python\\python39\\lib\\site-packages (from ydata-profiling->pandas_profiling) (1.3.4)\n",
      "Collecting phik<0.13,>=0.11.1\n",
      "  Downloading phik-0.12.3-cp39-cp39-win_amd64.whl (663 kB)\n",
      "Requirement already satisfied: numpy<1.24,>=1.16.0 in c:\\users\\micron\\appdata\\local\\programs\\python\\python39\\lib\\site-packages (from ydata-profiling->pandas_profiling) (1.21.4)\n",
      "Collecting PyYAML<6.1,>=5.0.0\n",
      "  Downloading PyYAML-6.0-cp39-cp39-win_amd64.whl (151 kB)\n",
      "Collecting typeguard<3,>=2.13.2\n",
      "  Downloading typeguard-2.13.3-py3-none-any.whl (17 kB)\n",
      "Collecting tqdm<5,>=4.48.2\n",
      "  Downloading tqdm-4.65.0-py3-none-any.whl (77 kB)\n",
      "Collecting imagehash==4.3.1\n",
      "  Downloading ImageHash-4.3.1-py2.py3-none-any.whl (296 kB)\n",
      "Requirement already satisfied: seaborn<0.13,>=0.10.1 in c:\\users\\micron\\appdata\\local\\programs\\python\\python39\\lib\\site-packages (from ydata-profiling->pandas_profiling) (0.11.2)\n",
      "Requirement already satisfied: scipy<1.11,>=1.4.1 in c:\\users\\micron\\appdata\\local\\programs\\python\\python39\\lib\\site-packages (from ydata-profiling->pandas_profiling) (1.7.3)\n",
      "Collecting dacite>=1.8\n",
      "  Downloading dacite-1.8.1-py3-none-any.whl (14 kB)\n",
      "Collecting multimethod<2,>=1.4\n",
      "  Downloading multimethod-1.9.1-py3-none-any.whl (10 kB)\n",
      "Requirement already satisfied: jinja2<3.2,>=2.11.1 in c:\\users\\micron\\appdata\\local\\programs\\python\\python39\\lib\\site-packages (from ydata-profiling->pandas_profiling) (3.0.3)\n",
      "Requirement already satisfied: pillow in c:\\users\\micron\\appdata\\local\\programs\\python\\python39\\lib\\site-packages (from imagehash==4.3.1->ydata-profiling->pandas_profiling) (8.4.0)\n",
      "Collecting PyWavelets\n",
      "  Downloading PyWavelets-1.4.1-cp39-cp39-win_amd64.whl (4.2 MB)\n",
      "Collecting networkx>=2.4\n",
      "  Downloading networkx-3.1-py3-none-any.whl (2.1 MB)\n",
      "Collecting tangled-up-in-unicode>=0.0.4\n",
      "  Downloading tangled_up_in_unicode-0.2.0-py3-none-any.whl (4.7 MB)\n",
      "Requirement already satisfied: attrs>=19.3.0 in c:\\users\\micron\\appdata\\local\\programs\\python\\python39\\lib\\site-packages (from visions[type_image_path]==0.7.5->ydata-profiling->pandas_profiling) (21.2.0)\n",
      "Requirement already satisfied: MarkupSafe>=2.0 in c:\\users\\micron\\appdata\\local\\programs\\python\\python39\\lib\\site-packages (from jinja2<3.2,>=2.11.1->ydata-profiling->pandas_profiling) (2.0.1)\n",
      "Requirement already satisfied: fonttools>=4.22.0 in c:\\users\\micron\\appdata\\local\\programs\\python\\python39\\lib\\site-packages (from matplotlib<4,>=3.2->ydata-profiling->pandas_profiling) (4.28.5)\n",
      "Requirement already satisfied: packaging>=20.0 in c:\\users\\micron\\appdata\\local\\programs\\python\\python39\\lib\\site-packages (from matplotlib<4,>=3.2->ydata-profiling->pandas_profiling) (21.2)\n",
      "Requirement already satisfied: pyparsing>=2.2.1 in c:\\users\\micron\\appdata\\local\\programs\\python\\python39\\lib\\site-packages (from matplotlib<4,>=3.2->ydata-profiling->pandas_profiling) (2.4.7)\n",
      "Requirement already satisfied: kiwisolver>=1.0.1 in c:\\users\\micron\\appdata\\local\\programs\\python\\python39\\lib\\site-packages (from matplotlib<4,>=3.2->ydata-profiling->pandas_profiling) (1.3.2)\n",
      "Requirement already satisfied: python-dateutil>=2.7 in c:\\users\\micron\\appdata\\local\\programs\\python\\python39\\lib\\site-packages (from matplotlib<4,>=3.2->ydata-profiling->pandas_profiling) (2.8.2)\n",
      "Requirement already satisfied: cycler>=0.10 in c:\\users\\micron\\appdata\\local\\programs\\python\\python39\\lib\\site-packages (from matplotlib<4,>=3.2->ydata-profiling->pandas_profiling) (0.11.0)\n",
      "Requirement already satisfied: pytz>=2017.3 in c:\\users\\micron\\appdata\\local\\programs\\python\\python39\\lib\\site-packages (from pandas!=1.4.0,<2.1,>1.1->ydata-profiling->pandas_profiling) (2021.3)\n",
      "Requirement already satisfied: joblib>=0.14.1 in c:\\users\\micron\\appdata\\local\\programs\\python\\python39\\lib\\site-packages (from phik<0.13,>=0.11.1->ydata-profiling->pandas_profiling) (1.1.0)\n",
      "Collecting typing-extensions>=4.2.0\n",
      "  Downloading typing_extensions-4.7.1-py3-none-any.whl (33 kB)\n",
      "Requirement already satisfied: six>=1.5 in c:\\users\\micron\\appdata\\local\\programs\\python\\python39\\lib\\site-packages (from python-dateutil>=2.7->matplotlib<4,>=3.2->ydata-profiling->pandas_profiling) (1.16.0)\n",
      "Requirement already satisfied: certifi>=2017.4.17 in c:\\users\\micron\\appdata\\local\\programs\\python\\python39\\lib\\site-packages (from requests<3,>=2.24.0->ydata-profiling->pandas_profiling) (2021.10.8)\n",
      "Requirement already satisfied: urllib3<1.27,>=1.21.1 in c:\\users\\micron\\appdata\\local\\programs\\python\\python39\\lib\\site-packages (from requests<3,>=2.24.0->ydata-profiling->pandas_profiling) (1.26.7)\n",
      "Requirement already satisfied: charset-normalizer~=2.0.0 in c:\\users\\micron\\appdata\\local\\programs\\python\\python39\\lib\\site-packages (from requests<3,>=2.24.0->ydata-profiling->pandas_profiling) (2.0.7)\n",
      "Requirement already satisfied: idna<4,>=2.5 in c:\\users\\micron\\appdata\\local\\programs\\python\\python39\\lib\\site-packages (from requests<3,>=2.24.0->ydata-profiling->pandas_profiling) (3.3)\n",
      "Collecting patsy>=0.5.2\n",
      "  Downloading patsy-0.5.3-py2.py3-none-any.whl (233 kB)\n",
      "Collecting packaging>=20.0\n",
      "  Downloading packaging-23.1-py3-none-any.whl (48 kB)\n",
      "Requirement already satisfied: colorama in c:\\users\\micron\\appdata\\local\\programs\\python\\python39\\lib\\site-packages (from tqdm<5,>=4.48.2->ydata-profiling->pandas_profiling) (0.4.4)\n",
      "Building wheels for collected packages: htmlmin\n",
      "  Building wheel for htmlmin (setup.py): started\n",
      "  Building wheel for htmlmin (setup.py): finished with status 'done'\n",
      "  Created wheel for htmlmin: filename=htmlmin-0.1.12-py3-none-any.whl size=27085 sha256=2e6778a29dd0e51c2d93d5b09196b6ea00843ce5d5d3ffc8e116d5325d00295e\n",
      "  Stored in directory: c:\\users\\micron\\appdata\\local\\pip\\cache\\wheels\\1d\\05\\04\\c6d7d3b66539d9e659ac6dfe81e2d0fd4c1a8316cc5a403300\n",
      "Successfully built htmlmin\n",
      "Installing collected packages: tangled-up-in-unicode, PyWavelets, packaging, networkx, multimethod, visions, typing-extensions, patsy, imagehash, wordcloud, typeguard, tqdm, statsmodels, PyYAML, pydantic, phik, htmlmin, dacite, ydata-profiling, pandas-profiling\n",
      "  Attempting uninstall: packaging\n",
      "    Found existing installation: packaging 21.2\n",
      "    Uninstalling packaging-21.2:\n",
      "      Successfully uninstalled packaging-21.2\n",
      "  Attempting uninstall: typing-extensions\n",
      "    Found existing installation: typing-extensions 4.0.1\n",
      "    Uninstalling typing-extensions-4.0.1:\n",
      "      Successfully uninstalled typing-extensions-4.0.1\n",
      "Successfully installed PyWavelets-1.4.1 PyYAML-6.0 dacite-1.8.1 htmlmin-0.1.12 imagehash-4.3.1 multimethod-1.9.1 networkx-3.1 packaging-23.1 pandas-profiling-3.6.6 patsy-0.5.3 phik-0.12.3 pydantic-1.10.11 statsmodels-0.14.0 tangled-up-in-unicode-0.2.0 tqdm-4.65.0 typeguard-2.13.3 typing-extensions-4.7.1 visions-0.7.5 wordcloud-1.9.2 ydata-profiling-4.3.1\n",
      "Note: you may need to restart the kernel to use updated packages.\n"
     ]
    },
    {
     "name": "stderr",
     "output_type": "stream",
     "text": [
      "WARNING: You are using pip version 21.1.3; however, version 23.1.2 is available.\n",
      "You should consider upgrading via the 'c:\\users\\micron\\appdata\\local\\programs\\python\\python39\\python.exe -m pip install --upgrade pip' command.\n"
     ]
    }
   ],
   "source": [
    "pip install pandas_profiling"
   ]
  },
  {
   "cell_type": "code",
   "execution_count": 25,
   "id": "d9f26dee-531a-4df4-899e-b889dbe0fc83",
   "metadata": {},
   "outputs": [],
   "source": [
    "import numpy as np\n",
    "import pandas as pd\n",
    "import pandas_profiling as pp  ## This is Profiling library which is helps to create an report about data just in one commond.\n",
    "import matplotlib.pyplot as plt\n"
   ]
  },
  {
   "cell_type": "markdown",
   "id": "7329ca01-771c-47a9-a1e5-cac3552862b1",
   "metadata": {
    "tags": []
   },
   "source": [
    "## Reading the data."
   ]
  },
  {
   "cell_type": "code",
   "execution_count": 3,
   "id": "a3f03afb-775f-4dd2-aca6-a31fca6468ff",
   "metadata": {},
   "outputs": [],
   "source": [
    "df = pd.read_csv(\"flights_data.csv\")"
   ]
  },
  {
   "cell_type": "code",
   "execution_count": 17,
   "id": "c60f3552-55ce-45d6-99d0-72892ce73d3a",
   "metadata": {},
   "outputs": [
    {
     "data": {
      "text/html": [
       "<div>\n",
       "<style scoped>\n",
       "    .dataframe tbody tr th:only-of-type {\n",
       "        vertical-align: middle;\n",
       "    }\n",
       "\n",
       "    .dataframe tbody tr th {\n",
       "        vertical-align: top;\n",
       "    }\n",
       "\n",
       "    .dataframe thead th {\n",
       "        text-align: right;\n",
       "    }\n",
       "</style>\n",
       "<table border=\"1\" class=\"dataframe\">\n",
       "  <thead>\n",
       "    <tr style=\"text-align: right;\">\n",
       "      <th></th>\n",
       "      <th>df_index</th>\n",
       "      <th>airline</th>\n",
       "      <th>flight</th>\n",
       "      <th>source_city</th>\n",
       "      <th>departure_time</th>\n",
       "      <th>stops</th>\n",
       "      <th>arrival_time</th>\n",
       "      <th>destination_city</th>\n",
       "      <th>class</th>\n",
       "      <th>duration</th>\n",
       "      <th>days_left</th>\n",
       "      <th>price</th>\n",
       "    </tr>\n",
       "  </thead>\n",
       "  <tbody>\n",
       "    <tr>\n",
       "      <th>0</th>\n",
       "      <td>0</td>\n",
       "      <td>SpiceJet</td>\n",
       "      <td>SG-8709</td>\n",
       "      <td>Delhi</td>\n",
       "      <td>Evening</td>\n",
       "      <td>zero</td>\n",
       "      <td>Night</td>\n",
       "      <td>Mumbai</td>\n",
       "      <td>Economy</td>\n",
       "      <td>2.17</td>\n",
       "      <td>1</td>\n",
       "      <td>5953</td>\n",
       "    </tr>\n",
       "    <tr>\n",
       "      <th>1</th>\n",
       "      <td>1</td>\n",
       "      <td>SpiceJet</td>\n",
       "      <td>SG-8157</td>\n",
       "      <td>Delhi</td>\n",
       "      <td>Early_Morning</td>\n",
       "      <td>zero</td>\n",
       "      <td>Morning</td>\n",
       "      <td>Mumbai</td>\n",
       "      <td>Economy</td>\n",
       "      <td>2.33</td>\n",
       "      <td>1</td>\n",
       "      <td>5953</td>\n",
       "    </tr>\n",
       "    <tr>\n",
       "      <th>2</th>\n",
       "      <td>2</td>\n",
       "      <td>AirAsia</td>\n",
       "      <td>I5-764</td>\n",
       "      <td>Delhi</td>\n",
       "      <td>Early_Morning</td>\n",
       "      <td>zero</td>\n",
       "      <td>Early_Morning</td>\n",
       "      <td>Mumbai</td>\n",
       "      <td>Economy</td>\n",
       "      <td>2.17</td>\n",
       "      <td>1</td>\n",
       "      <td>5956</td>\n",
       "    </tr>\n",
       "    <tr>\n",
       "      <th>3</th>\n",
       "      <td>3</td>\n",
       "      <td>Vistara</td>\n",
       "      <td>UK-995</td>\n",
       "      <td>Delhi</td>\n",
       "      <td>Morning</td>\n",
       "      <td>zero</td>\n",
       "      <td>Afternoon</td>\n",
       "      <td>Mumbai</td>\n",
       "      <td>Economy</td>\n",
       "      <td>2.25</td>\n",
       "      <td>1</td>\n",
       "      <td>5955</td>\n",
       "    </tr>\n",
       "    <tr>\n",
       "      <th>4</th>\n",
       "      <td>4</td>\n",
       "      <td>Vistara</td>\n",
       "      <td>UK-963</td>\n",
       "      <td>Delhi</td>\n",
       "      <td>Morning</td>\n",
       "      <td>zero</td>\n",
       "      <td>Morning</td>\n",
       "      <td>Mumbai</td>\n",
       "      <td>Economy</td>\n",
       "      <td>2.33</td>\n",
       "      <td>1</td>\n",
       "      <td>5955</td>\n",
       "    </tr>\n",
       "    <tr>\n",
       "      <th>...</th>\n",
       "      <td>...</td>\n",
       "      <td>...</td>\n",
       "      <td>...</td>\n",
       "      <td>...</td>\n",
       "      <td>...</td>\n",
       "      <td>...</td>\n",
       "      <td>...</td>\n",
       "      <td>...</td>\n",
       "      <td>...</td>\n",
       "      <td>...</td>\n",
       "      <td>...</td>\n",
       "      <td>...</td>\n",
       "    </tr>\n",
       "    <tr>\n",
       "      <th>300148</th>\n",
       "      <td>300148</td>\n",
       "      <td>Vistara</td>\n",
       "      <td>UK-822</td>\n",
       "      <td>Chennai</td>\n",
       "      <td>Morning</td>\n",
       "      <td>one</td>\n",
       "      <td>Evening</td>\n",
       "      <td>Hyderabad</td>\n",
       "      <td>Business</td>\n",
       "      <td>10.08</td>\n",
       "      <td>49</td>\n",
       "      <td>69265</td>\n",
       "    </tr>\n",
       "    <tr>\n",
       "      <th>300149</th>\n",
       "      <td>300149</td>\n",
       "      <td>Vistara</td>\n",
       "      <td>UK-826</td>\n",
       "      <td>Chennai</td>\n",
       "      <td>Afternoon</td>\n",
       "      <td>one</td>\n",
       "      <td>Night</td>\n",
       "      <td>Hyderabad</td>\n",
       "      <td>Business</td>\n",
       "      <td>10.42</td>\n",
       "      <td>49</td>\n",
       "      <td>77105</td>\n",
       "    </tr>\n",
       "    <tr>\n",
       "      <th>300150</th>\n",
       "      <td>300150</td>\n",
       "      <td>Vistara</td>\n",
       "      <td>UK-832</td>\n",
       "      <td>Chennai</td>\n",
       "      <td>Early_Morning</td>\n",
       "      <td>one</td>\n",
       "      <td>Night</td>\n",
       "      <td>Hyderabad</td>\n",
       "      <td>Business</td>\n",
       "      <td>13.83</td>\n",
       "      <td>49</td>\n",
       "      <td>79099</td>\n",
       "    </tr>\n",
       "    <tr>\n",
       "      <th>300151</th>\n",
       "      <td>300151</td>\n",
       "      <td>Vistara</td>\n",
       "      <td>UK-828</td>\n",
       "      <td>Chennai</td>\n",
       "      <td>Early_Morning</td>\n",
       "      <td>one</td>\n",
       "      <td>Evening</td>\n",
       "      <td>Hyderabad</td>\n",
       "      <td>Business</td>\n",
       "      <td>10.00</td>\n",
       "      <td>49</td>\n",
       "      <td>81585</td>\n",
       "    </tr>\n",
       "    <tr>\n",
       "      <th>300152</th>\n",
       "      <td>300152</td>\n",
       "      <td>Vistara</td>\n",
       "      <td>UK-822</td>\n",
       "      <td>Chennai</td>\n",
       "      <td>Morning</td>\n",
       "      <td>one</td>\n",
       "      <td>Evening</td>\n",
       "      <td>Hyderabad</td>\n",
       "      <td>Business</td>\n",
       "      <td>10.08</td>\n",
       "      <td>49</td>\n",
       "      <td>81585</td>\n",
       "    </tr>\n",
       "  </tbody>\n",
       "</table>\n",
       "<p>300153 rows × 12 columns</p>\n",
       "</div>"
      ],
      "text/plain": [
       "        df_index   airline   flight source_city departure_time stops  \\\n",
       "0              0  SpiceJet  SG-8709       Delhi        Evening  zero   \n",
       "1              1  SpiceJet  SG-8157       Delhi  Early_Morning  zero   \n",
       "2              2   AirAsia   I5-764       Delhi  Early_Morning  zero   \n",
       "3              3   Vistara   UK-995       Delhi        Morning  zero   \n",
       "4              4   Vistara   UK-963       Delhi        Morning  zero   \n",
       "...          ...       ...      ...         ...            ...   ...   \n",
       "300148    300148   Vistara   UK-822     Chennai        Morning   one   \n",
       "300149    300149   Vistara   UK-826     Chennai      Afternoon   one   \n",
       "300150    300150   Vistara   UK-832     Chennai  Early_Morning   one   \n",
       "300151    300151   Vistara   UK-828     Chennai  Early_Morning   one   \n",
       "300152    300152   Vistara   UK-822     Chennai        Morning   one   \n",
       "\n",
       "         arrival_time destination_city     class  duration  days_left  price  \n",
       "0               Night           Mumbai   Economy      2.17          1   5953  \n",
       "1             Morning           Mumbai   Economy      2.33          1   5953  \n",
       "2       Early_Morning           Mumbai   Economy      2.17          1   5956  \n",
       "3           Afternoon           Mumbai   Economy      2.25          1   5955  \n",
       "4             Morning           Mumbai   Economy      2.33          1   5955  \n",
       "...               ...              ...       ...       ...        ...    ...  \n",
       "300148        Evening        Hyderabad  Business     10.08         49  69265  \n",
       "300149          Night        Hyderabad  Business     10.42         49  77105  \n",
       "300150          Night        Hyderabad  Business     13.83         49  79099  \n",
       "300151        Evening        Hyderabad  Business     10.00         49  81585  \n",
       "300152        Evening        Hyderabad  Business     10.08         49  81585  \n",
       "\n",
       "[300153 rows x 12 columns]"
      ]
     },
     "execution_count": 17,
     "metadata": {},
     "output_type": "execute_result"
    }
   ],
   "source": [
    "df"
   ]
  },
  {
   "cell_type": "code",
   "execution_count": 13,
   "id": "e96bb832-2dcc-4d06-b95e-172c0ad777b0",
   "metadata": {},
   "outputs": [],
   "source": [
    "profile = pp.ProfileReport(df) ## Creating an report of an df"
   ]
  },
  {
   "cell_type": "code",
   "execution_count": 14,
   "id": "f33a665a-cb80-4b5e-a287-c5f2bb1a53bc",
   "metadata": {},
   "outputs": [
    {
     "data": {
      "application/vnd.jupyter.widget-view+json": {
       "model_id": "a13da1c81caf48d1ae4934f12c4b1331",
       "version_major": 2,
       "version_minor": 0
      },
      "text/plain": [
       "Summarize dataset:   0%|          | 0/5 [00:00<?, ?it/s]"
      ]
     },
     "metadata": {},
     "output_type": "display_data"
    },
    {
     "data": {
      "application/vnd.jupyter.widget-view+json": {
       "model_id": "b5481ba8effa4c4cb6e0d1172a5a0a3e",
       "version_major": 2,
       "version_minor": 0
      },
      "text/plain": [
       "Generate report structure:   0%|          | 0/1 [00:00<?, ?it/s]"
      ]
     },
     "metadata": {},
     "output_type": "display_data"
    },
    {
     "data": {
      "application/vnd.jupyter.widget-view+json": {
       "model_id": "3ab4151bc12947379661f1f3252d0777",
       "version_major": 2,
       "version_minor": 0
      },
      "text/plain": [
       "Render HTML:   0%|          | 0/1 [00:00<?, ?it/s]"
      ]
     },
     "metadata": {},
     "output_type": "display_data"
    },
    {
     "data": {
      "application/vnd.jupyter.widget-view+json": {
       "model_id": "1bb08f91cc514cbebbfcf87c7ccc7ae8",
       "version_major": 2,
       "version_minor": 0
      },
      "text/plain": [
       "Export report to file:   0%|          | 0/1 [00:00<?, ?it/s]"
      ]
     },
     "metadata": {},
     "output_type": "display_data"
    }
   ],
   "source": [
    "profile.to_file(\"output.html\") ## Creating an html file of on report."
   ]
  },
  {
   "cell_type": "code",
   "execution_count": 18,
   "id": "cc0ae089-7fa7-45b6-9a19-580124ea4fe4",
   "metadata": {},
   "outputs": [
    {
     "name": "stdout",
     "output_type": "stream",
     "text": [
      "   df_index   airline   flight source_city departure_time stops  \\\n",
      "0         0  SpiceJet  SG-8709       Delhi        Evening  zero   \n",
      "1         1  SpiceJet  SG-8157       Delhi  Early_Morning  zero   \n",
      "2         2   AirAsia   I5-764       Delhi  Early_Morning  zero   \n",
      "3         3   Vistara   UK-995       Delhi        Morning  zero   \n",
      "4         4   Vistara   UK-963       Delhi        Morning  zero   \n",
      "\n",
      "    arrival_time destination_city    class  duration  days_left  price  \n",
      "0          Night           Mumbai  Economy      2.17          1   5953  \n",
      "1        Morning           Mumbai  Economy      2.33          1   5953  \n",
      "2  Early_Morning           Mumbai  Economy      2.17          1   5956  \n",
      "3      Afternoon           Mumbai  Economy      2.25          1   5955  \n",
      "4        Morning           Mumbai  Economy      2.33          1   5955  \n"
     ]
    }
   ],
   "source": [
    "print(df.head())"
   ]
  },
  {
   "cell_type": "code",
   "execution_count": 20,
   "id": "df7c883c-4e34-4e8a-b335-4e1da861987e",
   "metadata": {},
   "outputs": [
    {
     "data": {
      "text/html": [
       "<div>\n",
       "<style scoped>\n",
       "    .dataframe tbody tr th:only-of-type {\n",
       "        vertical-align: middle;\n",
       "    }\n",
       "\n",
       "    .dataframe tbody tr th {\n",
       "        vertical-align: top;\n",
       "    }\n",
       "\n",
       "    .dataframe thead th {\n",
       "        text-align: right;\n",
       "    }\n",
       "</style>\n",
       "<table border=\"1\" class=\"dataframe\">\n",
       "  <thead>\n",
       "    <tr style=\"text-align: right;\">\n",
       "      <th></th>\n",
       "      <th>df_index</th>\n",
       "      <th>duration</th>\n",
       "      <th>days_left</th>\n",
       "      <th>price</th>\n",
       "    </tr>\n",
       "  </thead>\n",
       "  <tbody>\n",
       "    <tr>\n",
       "      <th>count</th>\n",
       "      <td>300153.000000</td>\n",
       "      <td>300153.000000</td>\n",
       "      <td>300153.000000</td>\n",
       "      <td>300153.000000</td>\n",
       "    </tr>\n",
       "    <tr>\n",
       "      <th>mean</th>\n",
       "      <td>150076.000000</td>\n",
       "      <td>12.221021</td>\n",
       "      <td>26.004751</td>\n",
       "      <td>20889.660523</td>\n",
       "    </tr>\n",
       "    <tr>\n",
       "      <th>std</th>\n",
       "      <td>86646.852011</td>\n",
       "      <td>7.191997</td>\n",
       "      <td>13.561004</td>\n",
       "      <td>22697.767366</td>\n",
       "    </tr>\n",
       "    <tr>\n",
       "      <th>min</th>\n",
       "      <td>0.000000</td>\n",
       "      <td>0.830000</td>\n",
       "      <td>1.000000</td>\n",
       "      <td>1105.000000</td>\n",
       "    </tr>\n",
       "    <tr>\n",
       "      <th>25%</th>\n",
       "      <td>75038.000000</td>\n",
       "      <td>6.830000</td>\n",
       "      <td>15.000000</td>\n",
       "      <td>4783.000000</td>\n",
       "    </tr>\n",
       "    <tr>\n",
       "      <th>50%</th>\n",
       "      <td>150076.000000</td>\n",
       "      <td>11.250000</td>\n",
       "      <td>26.000000</td>\n",
       "      <td>7425.000000</td>\n",
       "    </tr>\n",
       "    <tr>\n",
       "      <th>75%</th>\n",
       "      <td>225114.000000</td>\n",
       "      <td>16.170000</td>\n",
       "      <td>38.000000</td>\n",
       "      <td>42521.000000</td>\n",
       "    </tr>\n",
       "    <tr>\n",
       "      <th>max</th>\n",
       "      <td>300152.000000</td>\n",
       "      <td>49.830000</td>\n",
       "      <td>49.000000</td>\n",
       "      <td>123071.000000</td>\n",
       "    </tr>\n",
       "  </tbody>\n",
       "</table>\n",
       "</div>"
      ],
      "text/plain": [
       "            df_index       duration      days_left          price\n",
       "count  300153.000000  300153.000000  300153.000000  300153.000000\n",
       "mean   150076.000000      12.221021      26.004751   20889.660523\n",
       "std     86646.852011       7.191997      13.561004   22697.767366\n",
       "min         0.000000       0.830000       1.000000    1105.000000\n",
       "25%     75038.000000       6.830000      15.000000    4783.000000\n",
       "50%    150076.000000      11.250000      26.000000    7425.000000\n",
       "75%    225114.000000      16.170000      38.000000   42521.000000\n",
       "max    300152.000000      49.830000      49.000000  123071.000000"
      ]
     },
     "execution_count": 20,
     "metadata": {},
     "output_type": "execute_result"
    }
   ],
   "source": [
    "df.describe()"
   ]
  },
  {
   "cell_type": "code",
   "execution_count": 22,
   "id": "0f8cd4eb-0432-4ea6-961f-0101950a705c",
   "metadata": {},
   "outputs": [
    {
     "name": "stdout",
     "output_type": "stream",
     "text": [
      "df_index              int64\n",
      "airline              object\n",
      "flight               object\n",
      "source_city          object\n",
      "departure_time       object\n",
      "stops                object\n",
      "arrival_time         object\n",
      "destination_city     object\n",
      "class                object\n",
      "duration            float64\n",
      "days_left             int64\n",
      "price                 int64\n",
      "dtype: object\n"
     ]
    }
   ],
   "source": [
    "print(df.dtypes)"
   ]
  },
  {
   "cell_type": "markdown",
   "id": "e722fe1d-9f3e-4ff4-b6cb-cbeae1ca17cb",
   "metadata": {},
   "source": [
    "### Analyze the airlines:"
   ]
  },
  {
   "cell_type": "code",
   "execution_count": 23,
   "id": "ba5accbb-1065-4588-8bf9-337650bd4a51",
   "metadata": {},
   "outputs": [],
   "source": [
    "flight_count = df['airline'].value_counts()"
   ]
  },
  {
   "cell_type": "code",
   "execution_count": 24,
   "id": "3f4b3483-d07c-434e-9914-814c5e4875f2",
   "metadata": {},
   "outputs": [
    {
     "data": {
      "text/plain": [
       "Vistara      127859\n",
       "Air_India     80892\n",
       "Indigo        43120\n",
       "GO_FIRST      23173\n",
       "AirAsia       16098\n",
       "SpiceJet       9011\n",
       "Name: airline, dtype: int64"
      ]
     },
     "execution_count": 24,
     "metadata": {},
     "output_type": "execute_result"
    }
   ],
   "source": [
    "flight_count"
   ]
  },
  {
   "cell_type": "code",
   "execution_count": 56,
   "id": "211aa725-a5c7-4f87-a496-4f696b7f4f81",
   "metadata": {},
   "outputs": [
    {
     "data": {
      "image/png": "[encoded data removed]",
      "text/plain": [
       "<Figure size 720x432 with 1 Axes>"
      ]
     },
     "metadata": {
      "needs_background": "light"
     },
     "output_type": "display_data"
    }
   ],
   "source": [
    "plt.figure(figsize=(10,6))\n",
    "colors = ['green'] \n",
    "\n",
    "flight_count.plot(kind = 'bar',color = colors)\n",
    "plt.xlabel('Airline',rotation = 0)\n",
    "plt.ylabel('Number of Flihts')\n",
    "plt.title('Flight Counts by Airline')\n",
    "plt.xticks(rotation=0)  # Set the rotation angle to 45 degrees\n",
    "\n",
    "plt.show()"
   ]
  },
  {
   "cell_type": "markdown",
   "id": "0629b46d-664a-4365-ac61-cbfc99756784",
   "metadata": {},
   "source": [
    "## Calculating the average fliht duration for each airline"
   ]
  },
  {
   "cell_type": "code",
   "execution_count": 58,
   "id": "afa0f2d8-f265-4796-84f5-ad34b0dd5cbe",
   "metadata": {},
   "outputs": [
    {
     "data": {
      "text/plain": [
       "airline\n",
       "AirAsia       8.941714\n",
       "Air_India    15.504235\n",
       "GO_FIRST      8.755380\n",
       "Indigo        5.795197\n",
       "SpiceJet     12.579767\n",
       "Vistara      13.326634\n",
       "Name: duration, dtype: float64"
      ]
     },
     "execution_count": 58,
     "metadata": {},
     "output_type": "execute_result"
    }
   ],
   "source": [
    "avg_duration = df.groupby(\"airline\")['duration'].mean()\n",
    "avg_duration"
   ]
  },
  {
   "cell_type": "code",
   "execution_count": 63,
   "id": "cd774185-6a74-4c98-9dcb-82af34522162",
   "metadata": {},
   "outputs": [
    {
     "data": {
      "image/png": "[encoded data removed]",
      "text/plain": [
       "<Figure size 720x432 with 1 Axes>"
      ]
     },
     "metadata": {
      "needs_background": "light"
     },
     "output_type": "display_data"
    }
   ],
   "source": [
    "plt.figure(figsize=(10,6))\n",
    "avg_duration.plot(kind = 'bar')\n",
    "\n",
    "plt.xlabel('Airline')\n",
    "plt.ylabel('Average Flight Duration')\n",
    "plt.title('Average Flight Duration by Airline')\n",
    "plt.xticks(rotation=30)  # Set the rotation angle to 45 degrees\n",
    "\n",
    "plt.show()"
   ]
  },
  {
   "cell_type": "code",
   "execution_count": 64,
   "id": "54d281b6-34a5-41c4-9717-9c437fbe040b",
   "metadata": {},
   "outputs": [],
   "source": [
    "## Calculate the minimum, maximum, and average flight prices for each airline"
   ]
  },
  {
   "cell_type": "code",
   "execution_count": 65,
   "id": "668233eb-9c32-4960-8da1-6d21e5a8b43c",
   "metadata": {},
   "outputs": [],
   "source": [
    "min_price = df.groupby('airline')['price'].min()\n",
    "max_price = df.groupby('airline')['price'].max()\n",
    "avg_price = df.groupby('airline')['price'].mean()"
   ]
  },
  {
   "cell_type": "code",
   "execution_count": 66,
   "id": "ef2d790c-f4cb-4971-85f8-1b28c0579507",
   "metadata": {},
   "outputs": [
    {
     "name": "stdout",
     "output_type": "stream",
     "text": [
      "           Min Price  Max Price     Avg Price\n",
      "airline                                      \n",
      "AirAsia         1105      31917   4091.072742\n",
      "Air_India       1526      90970  23507.019112\n",
      "GO_FIRST        1105      32803   5652.007595\n",
      "Indigo          1105      31952   5324.216303\n",
      "SpiceJet        1106      34158   6179.278881\n",
      "Vistara         1714     123071  30396.536302\n"
     ]
    }
   ],
   "source": [
    "airline_stats = pd.concat([min_price,max_price,avg_price],axis = 1)\n",
    "airline_stats.columns = ['Min Price', 'Max Price', 'Avg Price']\n",
    "print(airline_stats)"
   ]
  },
  {
   "cell_type": "code",
   "execution_count": 86,
   "id": "5632d4a2-d701-420c-8057-b1d96afbdb45",
   "metadata": {},
   "outputs": [
    {
     "data": {
      "image/png": "[encoded data removed]",
      "text/plain": [
       "<Figure size 1080x576 with 1 Axes>"
      ]
     },
     "metadata": {
      "needs_background": "light"
     },
     "output_type": "display_data"
    }
   ],
   "source": [
    "# airline = ['AirAsia','Air_India','GO_FIRST','Indigo','SpiceJet','Vistara']\n",
    "# x = np.arange(len(airline))\n",
    "\n",
    "width = 0.2\n",
    "plt.figure(figsize=(15,8))\n",
    "\n",
    "\n",
    "plt.bar(x - width,airline_stats['Min Price'], width,label = 'Min Price')\n",
    "plt.bar(x,airline_stats['Max Price'],width, label = 'Max Price')\n",
    "plt.bar(x + width, airline_stats['Avg Price'], width, label='Avg  Price')\n",
    "\n",
    "# plt.xticks(airline)\n",
    "plt.xlabel('Airline')\n",
    "\n",
    "plt.ylabel('Price')\n",
    "\n",
    "plt.title('Flight Prices by Airline')\n",
    " \n",
    "plt.legend()\n",
    "plt.show()"
   ]
  },
  {
   "cell_type": "markdown",
   "id": "3c5c62b9-550c-4f84-b59e-9e6ff1c33537",
   "metadata": {},
   "source": [
    "## Analyze the flight routes by examining the source and destination cities."
   ]
  },
  {
   "cell_type": "code",
   "execution_count": 94,
   "id": "a1f61f45-b726-4719-85a1-0724581f1b1e",
   "metadata": {},
   "outputs": [
    {
     "name": "stdout",
     "output_type": "stream",
     "text": [
      "Number of Flights:  300153\n",
      "Available Airlines : 6\n",
      "Unique source cities : 6\n",
      "Unique destination cities : 6\n"
     ]
    }
   ],
   "source": [
    "print(\"Number of Flights: \", len(df))\n",
    "print(\"Available Airlines :\", df[\"airline\"].nunique())\n",
    "print(\"Unique source cities :\", df['source_city'].nunique())\n",
    "print(\"Unique destination cities :\", df['destination_city'].nunique())\n"
   ]
  },
  {
   "cell_type": "code",
   "execution_count": 95,
   "id": "a88503ff-2dfa-4676-941c-0e88f28c3c5c",
   "metadata": {},
   "outputs": [
    {
     "name": "stdout",
     "output_type": "stream",
     "text": [
      "\n",
      "Top Airlines by Number of Flights:\n",
      "Vistara      127859\n",
      "Air_India     80892\n",
      "Indigo        43120\n",
      "GO_FIRST      23173\n",
      "AirAsia       16098\n",
      "Name: airline, dtype: int64\n"
     ]
    }
   ],
   "source": [
    "# Top Airlines by Number of Flights\n",
    "top_airlines = df['airline'].value_counts().head(5)\n",
    "print(\"\\nTop Airlines by Number of Flights:\")\n",
    "print(top_airlines)"
   ]
  },
  {
   "cell_type": "code",
   "execution_count": 97,
   "id": "209d8b25-fd69-4928-8caf-a43d891c52ad",
   "metadata": {},
   "outputs": [
    {
     "data": {
      "text/plain": [
       "Delhi        61343\n",
       "Mumbai       60896\n",
       "Bangalore    52061\n",
       "Kolkata      46347\n",
       "Hyderabad    40806\n",
       "Chennai      38700\n",
       "Name: source_city, dtype: int64"
      ]
     },
     "execution_count": 97,
     "metadata": {},
     "output_type": "execute_result"
    }
   ],
   "source": [
    "# Busiest Source Cities\n",
    "busiest_sourse_cities = df['source_city'].value_counts()\n",
    "busiest_sourse_cities"
   ]
  },
  {
   "cell_type": "code",
   "execution_count": 99,
   "id": "d3909ec8-5b43-4cd6-a1ea-42bd52ec4d2e",
   "metadata": {},
   "outputs": [
    {
     "data": {
      "text/plain": [
       "Mumbai       59097\n",
       "Delhi        57360\n",
       "Bangalore    51068\n",
       "Kolkata      49534\n",
       "Hyderabad    42726\n",
       "Chennai      40368\n",
       "Name: destination_city, dtype: int64"
      ]
     },
     "execution_count": 99,
     "metadata": {},
     "output_type": "execute_result"
    }
   ],
   "source": [
    "# Most Common Destination City\n",
    "most_common_destination_city = df['destination_city'].value_counts()\n",
    "most_common_destination_city"
   ]
  },
  {
   "cell_type": "code",
   "execution_count": 100,
   "id": "6d05dbeb-0416-48b1-8139-743a149ad0c0",
   "metadata": {},
   "outputs": [
    {
     "data": {
      "text/plain": [
       "0.20422236784542708"
      ]
     },
     "execution_count": 100,
     "metadata": {},
     "output_type": "execute_result"
    }
   ],
   "source": [
    "# Correlation between Duration and Price\n",
    "correlation = df['duration'].corr(df['price'])\n",
    "correlation"
   ]
  },
  {
   "cell_type": "markdown",
   "id": "428e1096-07e5-4aa2-8cbe-9834d9d06025",
   "metadata": {
    "tags": []
   },
   "source": [
    "### Investigate the relationship between flight duration and the number of stops."
   ]
  },
  {
   "cell_type": "code",
   "execution_count": 102,
   "id": "4a3aae37-f385-4417-8222-65376d5b3a9a",
   "metadata": {},
   "outputs": [],
   "source": [
    "# duration = df['duration']\n",
    "# stops = df['stops']\n",
    "# plt.figure(figsize=(10,6))\n",
    "# plt.scatter(stops,duration)\n",
    "\n",
    "# plt.xlabel(\"Number of Stops\")\n",
    "# plt.ylabel(\"Flight Duration (Minutes)\")\n",
    "\n",
    "# plt.title(\"Flight Duration vs Number of Stops\")\n",
    "\n",
    "# plt.show()"
   ]
  },
  {
   "cell_type": "code",
   "execution_count": 105,
   "id": "0b3e5c37-faf1-4dca-8fb1-2ee66b2f4639",
   "metadata": {},
   "outputs": [
    {
     "data": {
      "text/html": [
       "<div>\n",
       "<style scoped>\n",
       "    .dataframe tbody tr th:only-of-type {\n",
       "        vertical-align: middle;\n",
       "    }\n",
       "\n",
       "    .dataframe tbody tr th {\n",
       "        vertical-align: top;\n",
       "    }\n",
       "\n",
       "    .dataframe thead th {\n",
       "        text-align: right;\n",
       "    }\n",
       "</style>\n",
       "<table border=\"1\" class=\"dataframe\">\n",
       "  <thead>\n",
       "    <tr style=\"text-align: right;\">\n",
       "      <th></th>\n",
       "      <th>df_index</th>\n",
       "      <th>airline</th>\n",
       "      <th>flight</th>\n",
       "      <th>source_city</th>\n",
       "      <th>departure_time</th>\n",
       "      <th>stops</th>\n",
       "      <th>arrival_time</th>\n",
       "      <th>destination_city</th>\n",
       "      <th>class</th>\n",
       "      <th>duration</th>\n",
       "      <th>days_left</th>\n",
       "      <th>price</th>\n",
       "    </tr>\n",
       "  </thead>\n",
       "  <tbody>\n",
       "    <tr>\n",
       "      <th>0</th>\n",
       "      <td>0</td>\n",
       "      <td>SpiceJet</td>\n",
       "      <td>SG-8709</td>\n",
       "      <td>Delhi</td>\n",
       "      <td>Evening</td>\n",
       "      <td>zero</td>\n",
       "      <td>Night</td>\n",
       "      <td>Mumbai</td>\n",
       "      <td>Economy</td>\n",
       "      <td>2.17</td>\n",
       "      <td>1</td>\n",
       "      <td>5953</td>\n",
       "    </tr>\n",
       "    <tr>\n",
       "      <th>1</th>\n",
       "      <td>1</td>\n",
       "      <td>SpiceJet</td>\n",
       "      <td>SG-8157</td>\n",
       "      <td>Delhi</td>\n",
       "      <td>Early_Morning</td>\n",
       "      <td>zero</td>\n",
       "      <td>Morning</td>\n",
       "      <td>Mumbai</td>\n",
       "      <td>Economy</td>\n",
       "      <td>2.33</td>\n",
       "      <td>1</td>\n",
       "      <td>5953</td>\n",
       "    </tr>\n",
       "    <tr>\n",
       "      <th>2</th>\n",
       "      <td>2</td>\n",
       "      <td>AirAsia</td>\n",
       "      <td>I5-764</td>\n",
       "      <td>Delhi</td>\n",
       "      <td>Early_Morning</td>\n",
       "      <td>zero</td>\n",
       "      <td>Early_Morning</td>\n",
       "      <td>Mumbai</td>\n",
       "      <td>Economy</td>\n",
       "      <td>2.17</td>\n",
       "      <td>1</td>\n",
       "      <td>5956</td>\n",
       "    </tr>\n",
       "    <tr>\n",
       "      <th>3</th>\n",
       "      <td>3</td>\n",
       "      <td>Vistara</td>\n",
       "      <td>UK-995</td>\n",
       "      <td>Delhi</td>\n",
       "      <td>Morning</td>\n",
       "      <td>zero</td>\n",
       "      <td>Afternoon</td>\n",
       "      <td>Mumbai</td>\n",
       "      <td>Economy</td>\n",
       "      <td>2.25</td>\n",
       "      <td>1</td>\n",
       "      <td>5955</td>\n",
       "    </tr>\n",
       "    <tr>\n",
       "      <th>4</th>\n",
       "      <td>4</td>\n",
       "      <td>Vistara</td>\n",
       "      <td>UK-963</td>\n",
       "      <td>Delhi</td>\n",
       "      <td>Morning</td>\n",
       "      <td>zero</td>\n",
       "      <td>Morning</td>\n",
       "      <td>Mumbai</td>\n",
       "      <td>Economy</td>\n",
       "      <td>2.33</td>\n",
       "      <td>1</td>\n",
       "      <td>5955</td>\n",
       "    </tr>\n",
       "    <tr>\n",
       "      <th>...</th>\n",
       "      <td>...</td>\n",
       "      <td>...</td>\n",
       "      <td>...</td>\n",
       "      <td>...</td>\n",
       "      <td>...</td>\n",
       "      <td>...</td>\n",
       "      <td>...</td>\n",
       "      <td>...</td>\n",
       "      <td>...</td>\n",
       "      <td>...</td>\n",
       "      <td>...</td>\n",
       "      <td>...</td>\n",
       "    </tr>\n",
       "    <tr>\n",
       "      <th>300148</th>\n",
       "      <td>300148</td>\n",
       "      <td>Vistara</td>\n",
       "      <td>UK-822</td>\n",
       "      <td>Chennai</td>\n",
       "      <td>Morning</td>\n",
       "      <td>one</td>\n",
       "      <td>Evening</td>\n",
       "      <td>Hyderabad</td>\n",
       "      <td>Business</td>\n",
       "      <td>10.08</td>\n",
       "      <td>49</td>\n",
       "      <td>69265</td>\n",
       "    </tr>\n",
       "    <tr>\n",
       "      <th>300149</th>\n",
       "      <td>300149</td>\n",
       "      <td>Vistara</td>\n",
       "      <td>UK-826</td>\n",
       "      <td>Chennai</td>\n",
       "      <td>Afternoon</td>\n",
       "      <td>one</td>\n",
       "      <td>Night</td>\n",
       "      <td>Hyderabad</td>\n",
       "      <td>Business</td>\n",
       "      <td>10.42</td>\n",
       "      <td>49</td>\n",
       "      <td>77105</td>\n",
       "    </tr>\n",
       "    <tr>\n",
       "      <th>300150</th>\n",
       "      <td>300150</td>\n",
       "      <td>Vistara</td>\n",
       "      <td>UK-832</td>\n",
       "      <td>Chennai</td>\n",
       "      <td>Early_Morning</td>\n",
       "      <td>one</td>\n",
       "      <td>Night</td>\n",
       "      <td>Hyderabad</td>\n",
       "      <td>Business</td>\n",
       "      <td>13.83</td>\n",
       "      <td>49</td>\n",
       "      <td>79099</td>\n",
       "    </tr>\n",
       "    <tr>\n",
       "      <th>300151</th>\n",
       "      <td>300151</td>\n",
       "      <td>Vistara</td>\n",
       "      <td>UK-828</td>\n",
       "      <td>Chennai</td>\n",
       "      <td>Early_Morning</td>\n",
       "      <td>one</td>\n",
       "      <td>Evening</td>\n",
       "      <td>Hyderabad</td>\n",
       "      <td>Business</td>\n",
       "      <td>10.00</td>\n",
       "      <td>49</td>\n",
       "      <td>81585</td>\n",
       "    </tr>\n",
       "    <tr>\n",
       "      <th>300152</th>\n",
       "      <td>300152</td>\n",
       "      <td>Vistara</td>\n",
       "      <td>UK-822</td>\n",
       "      <td>Chennai</td>\n",
       "      <td>Morning</td>\n",
       "      <td>one</td>\n",
       "      <td>Evening</td>\n",
       "      <td>Hyderabad</td>\n",
       "      <td>Business</td>\n",
       "      <td>10.08</td>\n",
       "      <td>49</td>\n",
       "      <td>81585</td>\n",
       "    </tr>\n",
       "  </tbody>\n",
       "</table>\n",
       "<p>300153 rows × 12 columns</p>\n",
       "</div>"
      ],
      "text/plain": [
       "        df_index   airline   flight source_city departure_time stops  \\\n",
       "0              0  SpiceJet  SG-8709       Delhi        Evening  zero   \n",
       "1              1  SpiceJet  SG-8157       Delhi  Early_Morning  zero   \n",
       "2              2   AirAsia   I5-764       Delhi  Early_Morning  zero   \n",
       "3              3   Vistara   UK-995       Delhi        Morning  zero   \n",
       "4              4   Vistara   UK-963       Delhi        Morning  zero   \n",
       "...          ...       ...      ...         ...            ...   ...   \n",
       "300148    300148   Vistara   UK-822     Chennai        Morning   one   \n",
       "300149    300149   Vistara   UK-826     Chennai      Afternoon   one   \n",
       "300150    300150   Vistara   UK-832     Chennai  Early_Morning   one   \n",
       "300151    300151   Vistara   UK-828     Chennai  Early_Morning   one   \n",
       "300152    300152   Vistara   UK-822     Chennai        Morning   one   \n",
       "\n",
       "         arrival_time destination_city     class  duration  days_left  price  \n",
       "0               Night           Mumbai   Economy      2.17          1   5953  \n",
       "1             Morning           Mumbai   Economy      2.33          1   5953  \n",
       "2       Early_Morning           Mumbai   Economy      2.17          1   5956  \n",
       "3           Afternoon           Mumbai   Economy      2.25          1   5955  \n",
       "4             Morning           Mumbai   Economy      2.33          1   5955  \n",
       "...               ...              ...       ...       ...        ...    ...  \n",
       "300148        Evening        Hyderabad  Business     10.08         49  69265  \n",
       "300149          Night        Hyderabad  Business     10.42         49  77105  \n",
       "300150          Night        Hyderabad  Business     13.83         49  79099  \n",
       "300151        Evening        Hyderabad  Business     10.00         49  81585  \n",
       "300152        Evening        Hyderabad  Business     10.08         49  81585  \n",
       "\n",
       "[300153 rows x 12 columns]"
      ]
     },
     "execution_count": 105,
     "metadata": {},
     "output_type": "execute_result"
    }
   ],
   "source": [
    "df"
   ]
  },
  {
   "cell_type": "markdown",
   "id": "f92059a3-9a78-4127-8471-d2c8f6380165",
   "metadata": {},
   "source": [
    "## Time Analysis:"
   ]
  },
  {
   "cell_type": "code",
   "execution_count": 120,
   "id": "558aac86-b87a-4abe-a7d8-a462be830ecb",
   "metadata": {},
   "outputs": [],
   "source": [
    "# # Analyze the distribution of flights throughout the day based on departure and arrival times.\n",
    "# plt.xlabel(\"Deperture Time Preiod\")\n",
    "# plt.ylabel(\"Frequncy\")\n",
    "# plt.title(\"Distrubution of Flights by Deperture Time\")\n",
    "\n",
    "# plt.show()"
   ]
  },
  {
   "cell_type": "code",
   "execution_count": 140,
   "id": "08d81c71-7b25-45f7-83b9-cf31a3772a67",
   "metadata": {},
   "outputs": [
    {
     "name": "stdout",
     "output_type": "stream",
     "text": [
      "Peak Arrival Time Categories: ['nignt']\n",
      "Peak Departure Time Categories: ['morning']\n"
     ]
    }
   ],
   "source": [
    "# Group flights by arrival time period\n",
    "arrival_counts = df['arrival_time'].value_counts()\n",
    "\n",
    "# Define time categories\n",
    "time_categories  = {'morning' : ['Morning'],\n",
    "            'early_morning' : ['Early_Morning'],\n",
    "             'evening' : ['Evening'],\n",
    "              'afternoon' : ['Afternoon'],\n",
    "               'nignt' : ['Night'],\n",
    "           }\n",
    "\n",
    "df['arrival_time_category'] = df['arrival_time'].map(\n",
    "    lambda x: next((key for key, values in time_categories .items() if x in values), None)\n",
    ")\n",
    "\n",
    "# Group flights by arrival time category\n",
    "arrival_category_counts = df['arrival_time_category'].value_counts()\n",
    "\n",
    "# Identify peak arrival time categories\n",
    "peak_arrival_categories = arrival_category_counts[arrival_category_counts == arrival_category_counts.max()].index.tolist()\n",
    "\n",
    "# Group flights by departure time period\n",
    "departure_counts = df['departure_time'].value_counts()\n",
    "\n",
    "# Create a new column to map time categories for departure time\n",
    "df['departure_time_category'] = df['departure_time'].map(\n",
    "    lambda x: next((key for key, values in time_categories.items() if x in values), None)\n",
    ")\n",
    "\n",
    "# Group flights by departure time category\n",
    "departure_category_counts = df['departure_time_category'].value_counts()\n",
    "\n",
    "# Identify peak departure time categories\n",
    "peak_departure_categories = departure_category_counts[departure_category_counts == departure_category_counts.max()].index.tolist()\n",
    "\n",
    "print(\"Peak Arrival Time Categories:\", peak_arrival_categories)\n",
    "print(\"Peak Departure Time Categories:\", peak_departure_categories)"
   ]
  },
  {
   "cell_type": "code",
   "execution_count": 141,
   "id": "1db07567-30d9-40da-9b2a-241bac66cef1",
   "metadata": {},
   "outputs": [
    {
     "data": {
      "text/html": [
       "<div>\n",
       "<style scoped>\n",
       "    .dataframe tbody tr th:only-of-type {\n",
       "        vertical-align: middle;\n",
       "    }\n",
       "\n",
       "    .dataframe tbody tr th {\n",
       "        vertical-align: top;\n",
       "    }\n",
       "\n",
       "    .dataframe thead th {\n",
       "        text-align: right;\n",
       "    }\n",
       "</style>\n",
       "<table border=\"1\" class=\"dataframe\">\n",
       "  <thead>\n",
       "    <tr style=\"text-align: right;\">\n",
       "      <th></th>\n",
       "      <th>df_index</th>\n",
       "      <th>airline</th>\n",
       "      <th>flight</th>\n",
       "      <th>source_city</th>\n",
       "      <th>departure_time</th>\n",
       "      <th>stops</th>\n",
       "      <th>arrival_time</th>\n",
       "      <th>destination_city</th>\n",
       "      <th>class</th>\n",
       "      <th>duration</th>\n",
       "      <th>days_left</th>\n",
       "      <th>price</th>\n",
       "      <th>arrival_time_category</th>\n",
       "      <th>departure_time_category</th>\n",
       "    </tr>\n",
       "  </thead>\n",
       "  <tbody>\n",
       "    <tr>\n",
       "      <th>0</th>\n",
       "      <td>0</td>\n",
       "      <td>SpiceJet</td>\n",
       "      <td>SG-8709</td>\n",
       "      <td>Delhi</td>\n",
       "      <td>Evening</td>\n",
       "      <td>zero</td>\n",
       "      <td>Night</td>\n",
       "      <td>Mumbai</td>\n",
       "      <td>Economy</td>\n",
       "      <td>2.17</td>\n",
       "      <td>1</td>\n",
       "      <td>5953</td>\n",
       "      <td>nignt</td>\n",
       "      <td>evening</td>\n",
       "    </tr>\n",
       "    <tr>\n",
       "      <th>1</th>\n",
       "      <td>1</td>\n",
       "      <td>SpiceJet</td>\n",
       "      <td>SG-8157</td>\n",
       "      <td>Delhi</td>\n",
       "      <td>Early_Morning</td>\n",
       "      <td>zero</td>\n",
       "      <td>Morning</td>\n",
       "      <td>Mumbai</td>\n",
       "      <td>Economy</td>\n",
       "      <td>2.33</td>\n",
       "      <td>1</td>\n",
       "      <td>5953</td>\n",
       "      <td>morning</td>\n",
       "      <td>early_morning</td>\n",
       "    </tr>\n",
       "    <tr>\n",
       "      <th>2</th>\n",
       "      <td>2</td>\n",
       "      <td>AirAsia</td>\n",
       "      <td>I5-764</td>\n",
       "      <td>Delhi</td>\n",
       "      <td>Early_Morning</td>\n",
       "      <td>zero</td>\n",
       "      <td>Early_Morning</td>\n",
       "      <td>Mumbai</td>\n",
       "      <td>Economy</td>\n",
       "      <td>2.17</td>\n",
       "      <td>1</td>\n",
       "      <td>5956</td>\n",
       "      <td>early_morning</td>\n",
       "      <td>early_morning</td>\n",
       "    </tr>\n",
       "    <tr>\n",
       "      <th>3</th>\n",
       "      <td>3</td>\n",
       "      <td>Vistara</td>\n",
       "      <td>UK-995</td>\n",
       "      <td>Delhi</td>\n",
       "      <td>Morning</td>\n",
       "      <td>zero</td>\n",
       "      <td>Afternoon</td>\n",
       "      <td>Mumbai</td>\n",
       "      <td>Economy</td>\n",
       "      <td>2.25</td>\n",
       "      <td>1</td>\n",
       "      <td>5955</td>\n",
       "      <td>afternoon</td>\n",
       "      <td>morning</td>\n",
       "    </tr>\n",
       "    <tr>\n",
       "      <th>4</th>\n",
       "      <td>4</td>\n",
       "      <td>Vistara</td>\n",
       "      <td>UK-963</td>\n",
       "      <td>Delhi</td>\n",
       "      <td>Morning</td>\n",
       "      <td>zero</td>\n",
       "      <td>Morning</td>\n",
       "      <td>Mumbai</td>\n",
       "      <td>Economy</td>\n",
       "      <td>2.33</td>\n",
       "      <td>1</td>\n",
       "      <td>5955</td>\n",
       "      <td>morning</td>\n",
       "      <td>morning</td>\n",
       "    </tr>\n",
       "    <tr>\n",
       "      <th>...</th>\n",
       "      <td>...</td>\n",
       "      <td>...</td>\n",
       "      <td>...</td>\n",
       "      <td>...</td>\n",
       "      <td>...</td>\n",
       "      <td>...</td>\n",
       "      <td>...</td>\n",
       "      <td>...</td>\n",
       "      <td>...</td>\n",
       "      <td>...</td>\n",
       "      <td>...</td>\n",
       "      <td>...</td>\n",
       "      <td>...</td>\n",
       "      <td>...</td>\n",
       "    </tr>\n",
       "    <tr>\n",
       "      <th>300148</th>\n",
       "      <td>300148</td>\n",
       "      <td>Vistara</td>\n",
       "      <td>UK-822</td>\n",
       "      <td>Chennai</td>\n",
       "      <td>Morning</td>\n",
       "      <td>one</td>\n",
       "      <td>Evening</td>\n",
       "      <td>Hyderabad</td>\n",
       "      <td>Business</td>\n",
       "      <td>10.08</td>\n",
       "      <td>49</td>\n",
       "      <td>69265</td>\n",
       "      <td>evening</td>\n",
       "      <td>morning</td>\n",
       "    </tr>\n",
       "    <tr>\n",
       "      <th>300149</th>\n",
       "      <td>300149</td>\n",
       "      <td>Vistara</td>\n",
       "      <td>UK-826</td>\n",
       "      <td>Chennai</td>\n",
       "      <td>Afternoon</td>\n",
       "      <td>one</td>\n",
       "      <td>Night</td>\n",
       "      <td>Hyderabad</td>\n",
       "      <td>Business</td>\n",
       "      <td>10.42</td>\n",
       "      <td>49</td>\n",
       "      <td>77105</td>\n",
       "      <td>nignt</td>\n",
       "      <td>afternoon</td>\n",
       "    </tr>\n",
       "    <tr>\n",
       "      <th>300150</th>\n",
       "      <td>300150</td>\n",
       "      <td>Vistara</td>\n",
       "      <td>UK-832</td>\n",
       "      <td>Chennai</td>\n",
       "      <td>Early_Morning</td>\n",
       "      <td>one</td>\n",
       "      <td>Night</td>\n",
       "      <td>Hyderabad</td>\n",
       "      <td>Business</td>\n",
       "      <td>13.83</td>\n",
       "      <td>49</td>\n",
       "      <td>79099</td>\n",
       "      <td>nignt</td>\n",
       "      <td>early_morning</td>\n",
       "    </tr>\n",
       "    <tr>\n",
       "      <th>300151</th>\n",
       "      <td>300151</td>\n",
       "      <td>Vistara</td>\n",
       "      <td>UK-828</td>\n",
       "      <td>Chennai</td>\n",
       "      <td>Early_Morning</td>\n",
       "      <td>one</td>\n",
       "      <td>Evening</td>\n",
       "      <td>Hyderabad</td>\n",
       "      <td>Business</td>\n",
       "      <td>10.00</td>\n",
       "      <td>49</td>\n",
       "      <td>81585</td>\n",
       "      <td>evening</td>\n",
       "      <td>early_morning</td>\n",
       "    </tr>\n",
       "    <tr>\n",
       "      <th>300152</th>\n",
       "      <td>300152</td>\n",
       "      <td>Vistara</td>\n",
       "      <td>UK-822</td>\n",
       "      <td>Chennai</td>\n",
       "      <td>Morning</td>\n",
       "      <td>one</td>\n",
       "      <td>Evening</td>\n",
       "      <td>Hyderabad</td>\n",
       "      <td>Business</td>\n",
       "      <td>10.08</td>\n",
       "      <td>49</td>\n",
       "      <td>81585</td>\n",
       "      <td>evening</td>\n",
       "      <td>morning</td>\n",
       "    </tr>\n",
       "  </tbody>\n",
       "</table>\n",
       "<p>300153 rows × 14 columns</p>\n",
       "</div>"
      ],
      "text/plain": [
       "        df_index   airline   flight source_city departure_time stops  \\\n",
       "0              0  SpiceJet  SG-8709       Delhi        Evening  zero   \n",
       "1              1  SpiceJet  SG-8157       Delhi  Early_Morning  zero   \n",
       "2              2   AirAsia   I5-764       Delhi  Early_Morning  zero   \n",
       "3              3   Vistara   UK-995       Delhi        Morning  zero   \n",
       "4              4   Vistara   UK-963       Delhi        Morning  zero   \n",
       "...          ...       ...      ...         ...            ...   ...   \n",
       "300148    300148   Vistara   UK-822     Chennai        Morning   one   \n",
       "300149    300149   Vistara   UK-826     Chennai      Afternoon   one   \n",
       "300150    300150   Vistara   UK-832     Chennai  Early_Morning   one   \n",
       "300151    300151   Vistara   UK-828     Chennai  Early_Morning   one   \n",
       "300152    300152   Vistara   UK-822     Chennai        Morning   one   \n",
       "\n",
       "         arrival_time destination_city     class  duration  days_left  price  \\\n",
       "0               Night           Mumbai   Economy      2.17          1   5953   \n",
       "1             Morning           Mumbai   Economy      2.33          1   5953   \n",
       "2       Early_Morning           Mumbai   Economy      2.17          1   5956   \n",
       "3           Afternoon           Mumbai   Economy      2.25          1   5955   \n",
       "4             Morning           Mumbai   Economy      2.33          1   5955   \n",
       "...               ...              ...       ...       ...        ...    ...   \n",
       "300148        Evening        Hyderabad  Business     10.08         49  69265   \n",
       "300149          Night        Hyderabad  Business     10.42         49  77105   \n",
       "300150          Night        Hyderabad  Business     13.83         49  79099   \n",
       "300151        Evening        Hyderabad  Business     10.00         49  81585   \n",
       "300152        Evening        Hyderabad  Business     10.08         49  81585   \n",
       "\n",
       "       arrival_time_category departure_time_category  \n",
       "0                      nignt                 evening  \n",
       "1                    morning           early_morning  \n",
       "2              early_morning           early_morning  \n",
       "3                  afternoon                 morning  \n",
       "4                    morning                 morning  \n",
       "...                      ...                     ...  \n",
       "300148               evening                 morning  \n",
       "300149                 nignt               afternoon  \n",
       "300150                 nignt           early_morning  \n",
       "300151               evening           early_morning  \n",
       "300152               evening                 morning  \n",
       "\n",
       "[300153 rows x 14 columns]"
      ]
     },
     "execution_count": 141,
     "metadata": {},
     "output_type": "execute_result"
    }
   ],
   "source": [
    "df"
   ]
  },
  {
   "cell_type": "code",
   "execution_count": 144,
   "id": "71c629d0-b18f-44af-a985-58dabe6a73f1",
   "metadata": {},
   "outputs": [],
   "source": [
    "source_arrival_counts = df.groupby(['source_city', 'arrival_time_category']).size()\n",
    "source_departure_counts = df.groupby(['source_city', 'departure_time_category']).size()"
   ]
  },
  {
   "cell_type": "code",
   "execution_count": 145,
   "id": "1e5a3c4f-ff13-4425-a049-e4d5c6a53dd8",
   "metadata": {},
   "outputs": [
    {
     "data": {
      "text/plain": [
       "source_city  arrival_time_category\n",
       "Bangalore    afternoon                 6992\n",
       "             early_morning             3154\n",
       "             evening                  14493\n",
       "             morning                  10411\n",
       "             nignt                    14338\n",
       "Chennai      afternoon                 5152\n",
       "             early_morning             1606\n",
       "             evening                  10830\n",
       "             morning                   7106\n",
       "             nignt                    12007\n",
       "Delhi        afternoon                 8007\n",
       "             early_morning             5262\n",
       "             evening                  14630\n",
       "             morning                  13007\n",
       "             nignt                    18294\n",
       "Hyderabad    afternoon                 4816\n",
       "             early_morning             1581\n",
       "             evening                  10539\n",
       "             morning                   8854\n",
       "             nignt                    12924\n",
       "Kolkata      afternoon                 5941\n",
       "             early_morning             2156\n",
       "             evening                  11304\n",
       "             morning                   9595\n",
       "             nignt                    14937\n",
       "Mumbai       afternoon                 7231\n",
       "             early_morning             1658\n",
       "             evening                  16527\n",
       "             morning                  13762\n",
       "             nignt                    19038\n",
       "dtype: int64"
      ]
     },
     "execution_count": 145,
     "metadata": {},
     "output_type": "execute_result"
    }
   ],
   "source": [
    "source_arrival_counts"
   ]
  },
  {
   "cell_type": "code",
   "execution_count": 148,
   "id": "e2c79bde-13ee-4cf7-8feb-cd1b576e6bc5",
   "metadata": {},
   "outputs": [
    {
     "data": {
      "text/plain": [
       "source_city  departure_time_category\n",
       "Bangalore    afternoon                   5183\n",
       "             early_morning              13611\n",
       "             evening                    14243\n",
       "             morning                    12323\n",
       "             nignt                       6244\n",
       "Chennai      afternoon                   5807\n",
       "             early_morning               9319\n",
       "             evening                     5402\n",
       "             morning                    10550\n",
       "             nignt                       7550\n",
       "Delhi        afternoon                  11234\n",
       "             early_morning              12248\n",
       "             evening                    16790\n",
       "             morning                    13679\n",
       "             nignt                       7035\n",
       "Hyderabad    afternoon                   7221\n",
       "             early_morning               8524\n",
       "             evening                     5991\n",
       "             morning                     9923\n",
       "             nignt                       9109\n",
       "Kolkata      afternoon                   7863\n",
       "             early_morning               8133\n",
       "             evening                     9594\n",
       "             morning                    12065\n",
       "             nignt                       8578\n",
       "Mumbai       afternoon                  10486\n",
       "             early_morning              14955\n",
       "             evening                    13082\n",
       "             morning                    12606\n",
       "             nignt                       9499\n",
       "dtype: int64"
      ]
     },
     "execution_count": 148,
     "metadata": {},
     "output_type": "execute_result"
    }
   ],
   "source": [
    "source_departure_counts"
   ]
  },
  {
   "cell_type": "code",
   "execution_count": 152,
   "id": "8484d5c7-4556-4b63-bed1-0399963b06e1",
   "metadata": {},
   "outputs": [
    {
     "data": {
      "text/plain": [
       "('Mumbai', 'nignt')"
      ]
     },
     "execution_count": 152,
     "metadata": {},
     "output_type": "execute_result"
    }
   ],
   "source": [
    "source_arrival_counts.idxmax()"
   ]
  },
  {
   "cell_type": "code",
   "execution_count": 153,
   "id": "1d3c1c8c-d3c9-4393-acde-0e5e05d34243",
   "metadata": {},
   "outputs": [
    {
     "data": {
      "text/plain": [
       "('Delhi', 'evening')"
      ]
     },
     "execution_count": 153,
     "metadata": {},
     "output_type": "execute_result"
    }
   ],
   "source": [
    "source_departure_counts.idxmax()"
   ]
  },
  {
   "cell_type": "code",
   "execution_count": 155,
   "id": "848cecf4-3ced-4f9b-a558-47bc99507ad4",
   "metadata": {},
   "outputs": [],
   "source": [
    "# how to find the peak time for a all airport as consedering a arrival time and deperture time?????  "
   ]
  },
  {
   "cell_type": "code",
   "execution_count": null,
   "id": "e8c0f07e-a1c0-4475-8d52-7a2478be0766",
   "metadata": {},
   "outputs": [],
   "source": []
  }
 ],
 "metadata": {
  "kernelspec": {
   "display_name": "Python 3 (ipykernel)",
   "language": "python",
   "name": "python3"
  },
  "language_info": {
   "codemirror_mode": {
    "name": "ipython",
    "version": 3
   },
   "file_extension": ".py",
   "mimetype": "text/x-python",
   "name": "python",
   "nbconvert_exporter": "python",
   "pygments_lexer": "ipython3",
   "version": "3.11.3"
  }
 },
 "nbformat": 4,
 "nbformat_minor": 5
}
