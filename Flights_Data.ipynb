{
 "cells": [
  {
   "cell_type": "markdown",
   "id": "bf237fc7",
   "metadata": {},
   "source": [
    "# This is a project about flight data analysis."
   ]
  },
  {
   "cell_type": "code",
   "execution_count": 1,
   "id": "6b476e48-346c-4524-9151-05267b59fb7c",
   "metadata": {
    "scrolled": true
   },
   "outputs": [
    {
     "name": "stdout",
     "output_type": "stream",
     "text": [
      "Requirement already satisfied: pandas_profiling in c:\\users\\micron\\appdata\\local\\programs\\python\\python311\\lib\\site-packages (3.2.0)\n",
      "Requirement already satisfied: joblib~=1.1.0 in c:\\users\\micron\\appdata\\local\\programs\\python\\python311\\lib\\site-packages (from pandas_profiling) (1.1.1)\n",
      "Requirement already satisfied: scipy>=1.4.1 in c:\\users\\micron\\appdata\\local\\programs\\python\\python311\\lib\\site-packages (from pandas_profiling) (1.11.1)\n",
      "Requirement already satisfied: pandas!=1.0.0,!=1.0.1,!=1.0.2,!=1.1.0,>=0.25.3 in c:\\users\\micron\\appdata\\local\\programs\\python\\python311\\lib\\site-packages (from pandas_profiling) (2.0.3)\n",
      "Requirement already satisfied: matplotlib>=3.2.0 in c:\\users\\micron\\appdata\\local\\programs\\python\\python311\\lib\\site-packages (from pandas_profiling) (3.7.2)\n",
      "Requirement already satisfied: pydantic>=1.8.1 in c:\\users\\micron\\appdata\\local\\programs\\python\\python311\\lib\\site-packages (from pandas_profiling) (2.0.3)\n",
      "Requirement already satisfied: PyYAML>=5.0.0 in c:\\users\\micron\\appdata\\local\\programs\\python\\python311\\lib\\site-packages (from pandas_profiling) (6.0)\n",
      "Requirement already satisfied: jinja2>=2.11.1 in c:\\users\\micron\\appdata\\local\\programs\\python\\python311\\lib\\site-packages (from pandas_profiling) (3.1.2)\n",
      "Requirement already satisfied: markupsafe~=2.1.1 in c:\\users\\micron\\appdata\\local\\programs\\python\\python311\\lib\\site-packages (from pandas_profiling) (2.1.3)\n",
      "Requirement already satisfied: visions[type_image_path]==0.7.4 in c:\\users\\micron\\appdata\\local\\programs\\python\\python311\\lib\\site-packages (from pandas_profiling) (0.7.4)\n",
      "Requirement already satisfied: numpy>=1.16.0 in c:\\users\\micron\\appdata\\local\\programs\\python\\python311\\lib\\site-packages (from pandas_profiling) (1.25.1)\n",
      "Requirement already satisfied: htmlmin>=0.1.12 in c:\\users\\micron\\appdata\\local\\programs\\python\\python311\\lib\\site-packages (from pandas_profiling) (0.1.12)\n",
      "Requirement already satisfied: missingno>=0.4.2 in c:\\users\\micron\\appdata\\local\\programs\\python\\python311\\lib\\site-packages (from pandas_profiling) (0.5.2)\n",
      "Requirement already satisfied: phik>=0.11.1 in c:\\users\\micron\\appdata\\local\\programs\\python\\python311\\lib\\site-packages (from pandas_profiling) (0.12.3)\n",
      "Requirement already satisfied: tangled-up-in-unicode==0.2.0 in c:\\users\\micron\\appdata\\local\\programs\\python\\python311\\lib\\site-packages (from pandas_profiling) (0.2.0)\n",
      "Requirement already satisfied: requests>=2.24.0 in c:\\users\\micron\\appdata\\local\\programs\\python\\python311\\lib\\site-packages (from pandas_profiling) (2.31.0)\n",
      "Requirement already satisfied: tqdm>=4.48.2 in c:\\users\\micron\\appdata\\local\\programs\\python\\python311\\lib\\site-packages (from pandas_profiling) (4.65.0)\n",
      "Requirement already satisfied: seaborn>=0.10.1 in c:\\users\\micron\\appdata\\local\\programs\\python\\python311\\lib\\site-packages (from pandas_profiling) (0.12.2)\n",
      "Requirement already satisfied: multimethod>=1.4 in c:\\users\\micron\\appdata\\local\\programs\\python\\python311\\lib\\site-packages (from pandas_profiling) (1.9.1)\n",
      "Requirement already satisfied: attrs>=19.3.0 in c:\\users\\micron\\appdata\\local\\programs\\python\\python311\\lib\\site-packages (from visions[type_image_path]==0.7.4->pandas_profiling) (23.1.0)\n",
      "Requirement already satisfied: networkx>=2.4 in c:\\users\\micron\\appdata\\local\\programs\\python\\python311\\lib\\site-packages (from visions[type_image_path]==0.7.4->pandas_profiling) (3.1)\n",
      "Requirement already satisfied: imagehash in c:\\users\\micron\\appdata\\local\\programs\\python\\python311\\lib\\site-packages (from visions[type_image_path]==0.7.4->pandas_profiling) (4.3.1)\n",
      "Requirement already satisfied: Pillow in c:\\users\\micron\\appdata\\local\\programs\\python\\python311\\lib\\site-packages (from visions[type_image_path]==0.7.4->pandas_profiling) (10.0.0)\n",
      "Requirement already satisfied: contourpy>=1.0.1 in c:\\users\\micron\\appdata\\local\\programs\\python\\python311\\lib\\site-packages (from matplotlib>=3.2.0->pandas_profiling) (1.1.0)\n",
      "Requirement already satisfied: cycler>=0.10 in c:\\users\\micron\\appdata\\local\\programs\\python\\python311\\lib\\site-packages (from matplotlib>=3.2.0->pandas_profiling) (0.11.0)\n",
      "Requirement already satisfied: fonttools>=4.22.0 in c:\\users\\micron\\appdata\\local\\programs\\python\\python311\\lib\\site-packages (from matplotlib>=3.2.0->pandas_profiling) (4.41.0)\n",
      "Requirement already satisfied: kiwisolver>=1.0.1 in c:\\users\\micron\\appdata\\local\\programs\\python\\python311\\lib\\site-packages (from matplotlib>=3.2.0->pandas_profiling) (1.4.4)\n",
      "Requirement already satisfied: packaging>=20.0 in c:\\users\\micron\\appdata\\local\\programs\\python\\python311\\lib\\site-packages (from matplotlib>=3.2.0->pandas_profiling) (23.1)\n",
      "Requirement already satisfied: pyparsing<3.1,>=2.3.1 in c:\\users\\micron\\appdata\\local\\programs\\python\\python311\\lib\\site-packages (from matplotlib>=3.2.0->pandas_profiling) (3.0.9)\n",
      "Requirement already satisfied: python-dateutil>=2.7 in c:\\users\\micron\\appdata\\local\\programs\\python\\python311\\lib\\site-packages (from matplotlib>=3.2.0->pandas_profiling) (2.8.2)\n",
      "Requirement already satisfied: pytz>=2020.1 in c:\\users\\micron\\appdata\\local\\programs\\python\\python311\\lib\\site-packages (from pandas!=1.0.0,!=1.0.1,!=1.0.2,!=1.1.0,>=0.25.3->pandas_profiling) (2023.3)\n",
      "Requirement already satisfied: tzdata>=2022.1 in c:\\users\\micron\\appdata\\local\\programs\\python\\python311\\lib\\site-packages (from pandas!=1.0.0,!=1.0.1,!=1.0.2,!=1.1.0,>=0.25.3->pandas_profiling) (2023.3)\n",
      "Requirement already satisfied: annotated-types>=0.4.0 in c:\\users\\micron\\appdata\\local\\programs\\python\\python311\\lib\\site-packages (from pydantic>=1.8.1->pandas_profiling) (0.5.0)\n",
      "Requirement already satisfied: pydantic-core==2.3.0 in c:\\users\\micron\\appdata\\local\\programs\\python\\python311\\lib\\site-packages (from pydantic>=1.8.1->pandas_profiling) (2.3.0)\n",
      "Requirement already satisfied: typing-extensions>=4.6.1 in c:\\users\\micron\\appdata\\local\\programs\\python\\python311\\lib\\site-packages (from pydantic>=1.8.1->pandas_profiling) (4.7.1)\n",
      "Requirement already satisfied: charset-normalizer<4,>=2 in c:\\users\\micron\\appdata\\local\\programs\\python\\python311\\lib\\site-packages (from requests>=2.24.0->pandas_profiling) (3.2.0)\n",
      "Requirement already satisfied: idna<4,>=2.5 in c:\\users\\micron\\appdata\\local\\programs\\python\\python311\\lib\\site-packages (from requests>=2.24.0->pandas_profiling) (3.4)\n",
      "Requirement already satisfied: urllib3<3,>=1.21.1 in c:\\users\\micron\\appdata\\local\\programs\\python\\python311\\lib\\site-packages (from requests>=2.24.0->pandas_profiling) (2.0.3)\n",
      "Requirement already satisfied: certifi>=2017.4.17 in c:\\users\\micron\\appdata\\local\\programs\\python\\python311\\lib\\site-packages (from requests>=2.24.0->pandas_profiling) (2023.5.7)\n",
      "Requirement already satisfied: colorama in c:\\users\\micron\\appdata\\local\\programs\\python\\python311\\lib\\site-packages (from tqdm>=4.48.2->pandas_profiling) (0.4.6)\n",
      "Requirement already satisfied: six>=1.5 in c:\\users\\micron\\appdata\\local\\programs\\python\\python311\\lib\\site-packages (from python-dateutil>=2.7->matplotlib>=3.2.0->pandas_profiling) (1.16.0)\n",
      "Requirement already satisfied: PyWavelets in c:\\users\\micron\\appdata\\local\\programs\\python\\python311\\lib\\site-packages (from imagehash->visions[type_image_path]==0.7.4->pandas_profiling) (1.4.1)\n",
      "Note: you may need to restart the kernel to use updated packages.\n"
     ]
    },
    {
     "name": "stderr",
     "output_type": "stream",
     "text": [
      "\n",
      "[notice] A new release of pip is available: 23.2 -> 23.2.1\n",
      "[notice] To update, run: python.exe -m pip install --upgrade pip\n"
     ]
    }
   ],
   "source": [
    "pip install pandas_profiling"
   ]
  },
  {
   "cell_type": "code",
   "execution_count": 2,
   "id": "53d7b7aa",
   "metadata": {},
   "outputs": [
    {
     "data": {
      "text/plain": [
       "'pandas_profliling library :- \\n    People use pandas-profiling because it simplifies data exploration and preprocessing by \\n    automating the generation of essential statistics, visualizations, and data quality checks. \\n    This tool saves time, helps users identify issues, and facilitates a deeper understanding\\n    of their dataset, making it a valuable tool for data analysis and cleaning.'"
      ]
     },
     "execution_count": 2,
     "metadata": {},
     "output_type": "execute_result"
    }
   ],
   "source": [
    "\"\"\"pandas_profliling library :- \n",
    "    People use pandas-profiling because it simplifies data exploration and preprocessing by \n",
    "    automating the generation of essential statistics, visualizations, and data quality checks. \n",
    "    This tool saves time, helps users identify issues, and facilitates a deeper understanding\n",
    "    of their dataset, making it a valuable tool for data analysis and cleaning.\"\"\""
   ]
  },
  {
   "cell_type": "code",
   "execution_count": 3,
   "id": "52824972",
   "metadata": {},
   "outputs": [
    {
     "name": "stdout",
     "output_type": "stream",
     "text": [
      "Requirement already satisfied: numpy in c:\\users\\micron\\appdata\\local\\programs\\python\\python311\\lib\\site-packages (1.25.1)\n"
     ]
    },
    {
     "name": "stderr",
     "output_type": "stream",
     "text": [
      "\n",
      "[notice] A new release of pip is available: 23.2 -> 23.2.1\n",
      "[notice] To update, run: python.exe -m pip install --upgrade pip\n"
     ]
    },
    {
     "name": "stdout",
     "output_type": "stream",
     "text": [
      "Requirement already satisfied: pandas in c:\\users\\micron\\appdata\\local\\programs\\python\\python311\\lib\\site-packages (2.0.3)\n",
      "Requirement already satisfied: python-dateutil>=2.8.2 in c:\\users\\micron\\appdata\\local\\programs\\python\\python311\\lib\\site-packages (from pandas) (2.8.2)\n",
      "Requirement already satisfied: pytz>=2020.1 in c:\\users\\micron\\appdata\\local\\programs\\python\\python311\\lib\\site-packages (from pandas) (2023.3)\n",
      "Requirement already satisfied: tzdata>=2022.1 in c:\\users\\micron\\appdata\\local\\programs\\python\\python311\\lib\\site-packages (from pandas) (2023.3)\n",
      "Requirement already satisfied: numpy>=1.21.0 in c:\\users\\micron\\appdata\\local\\programs\\python\\python311\\lib\\site-packages (from pandas) (1.25.1)\n",
      "Requirement already satisfied: six>=1.5 in c:\\users\\micron\\appdata\\local\\programs\\python\\python311\\lib\\site-packages (from python-dateutil>=2.8.2->pandas) (1.16.0)\n"
     ]
    },
    {
     "name": "stderr",
     "output_type": "stream",
     "text": [
      "\n",
      "[notice] A new release of pip is available: 23.2 -> 23.2.1\n",
      "[notice] To update, run: python.exe -m pip install --upgrade pip\n"
     ]
    },
    {
     "name": "stdout",
     "output_type": "stream",
     "text": [
      "Requirement already satisfied: matplotlib in c:\\users\\micron\\appdata\\local\\programs\\python\\python311\\lib\\site-packages (3.7.2)\n",
      "Requirement already satisfied: contourpy>=1.0.1 in c:\\users\\micron\\appdata\\local\\programs\\python\\python311\\lib\\site-packages (from matplotlib) (1.1.0)\n",
      "Requirement already satisfied: cycler>=0.10 in c:\\users\\micron\\appdata\\local\\programs\\python\\python311\\lib\\site-packages (from matplotlib) (0.11.0)\n",
      "Requirement already satisfied: fonttools>=4.22.0 in c:\\users\\micron\\appdata\\local\\programs\\python\\python311\\lib\\site-packages (from matplotlib) (4.41.0)\n",
      "Requirement already satisfied: kiwisolver>=1.0.1 in c:\\users\\micron\\appdata\\local\\programs\\python\\python311\\lib\\site-packages (from matplotlib) (1.4.4)\n",
      "Requirement already satisfied: numpy>=1.20 in c:\\users\\micron\\appdata\\local\\programs\\python\\python311\\lib\\site-packages (from matplotlib) (1.25.1)\n",
      "Requirement already satisfied: packaging>=20.0 in c:\\users\\micron\\appdata\\local\\programs\\python\\python311\\lib\\site-packages (from matplotlib) (23.1)\n",
      "Requirement already satisfied: pillow>=6.2.0 in c:\\users\\micron\\appdata\\local\\programs\\python\\python311\\lib\\site-packages (from matplotlib) (10.0.0)\n",
      "Requirement already satisfied: pyparsing<3.1,>=2.3.1 in c:\\users\\micron\\appdata\\local\\programs\\python\\python311\\lib\\site-packages (from matplotlib) (3.0.9)\n",
      "Requirement already satisfied: python-dateutil>=2.7 in c:\\users\\micron\\appdata\\local\\programs\\python\\python311\\lib\\site-packages (from matplotlib) (2.8.2)\n",
      "Requirement already satisfied: six>=1.5 in c:\\users\\micron\\appdata\\local\\programs\\python\\python311\\lib\\site-packages (from python-dateutil>=2.7->matplotlib) (1.16.0)\n"
     ]
    },
    {
     "name": "stderr",
     "output_type": "stream",
     "text": [
      "\n",
      "[notice] A new release of pip is available: 23.2 -> 23.2.1\n",
      "[notice] To update, run: python.exe -m pip install --upgrade pip\n"
     ]
    }
   ],
   "source": [
    "!pip install numpy\n",
    "!pip install pandas\n",
    "!pip install matplotlib"
   ]
  },
  {
   "cell_type": "markdown",
   "id": "954e5f67",
   "metadata": {},
   "source": [
    "## Importing all requried librery."
   ]
  },
  {
   "cell_type": "code",
   "execution_count": 6,
   "id": "d9f26dee-531a-4df4-899e-b889dbe0fc83",
   "metadata": {},
   "outputs": [],
   "source": [
    "import numpy as np\n",
    "import pandas as pd\n",
    "# import pandas_profiling as pp  ## This is Profiling library which is helps to create an report about data just in one commond.\n",
    "import matplotlib.pyplot as plt\n",
    "# from pandas_profiling import ProfileReport"
   ]
  },
  {
   "cell_type": "markdown",
   "id": "7329ca01-771c-47a9-a1e5-cac3552862b1",
   "metadata": {
    "tags": []
   },
   "source": [
    "## Reading the data."
   ]
  },
  {
   "cell_type": "code",
   "execution_count": 7,
   "id": "a3f03afb-775f-4dd2-aca6-a31fca6468ff",
   "metadata": {},
   "outputs": [],
   "source": [
    "df = pd.read_csv(\"flights_data.csv\")"
   ]
  },
  {
   "cell_type": "code",
   "execution_count": 8,
   "id": "c60f3552-55ce-45d6-99d0-72892ce73d3a",
   "metadata": {},
   "outputs": [
    {
     "data": {
      "text/html": [
       "<div>\n",
       "<style scoped>\n",
       "    .dataframe tbody tr th:only-of-type {\n",
       "        vertical-align: middle;\n",
       "    }\n",
       "\n",
       "    .dataframe tbody tr th {\n",
       "        vertical-align: top;\n",
       "    }\n",
       "\n",
       "    .dataframe thead th {\n",
       "        text-align: right;\n",
       "    }\n",
       "</style>\n",
       "<table border=\"1\" class=\"dataframe\">\n",
       "  <thead>\n",
       "    <tr style=\"text-align: right;\">\n",
       "      <th></th>\n",
       "      <th>index</th>\n",
       "      <th>airline</th>\n",
       "      <th>flight</th>\n",
       "      <th>source_city</th>\n",
       "      <th>departure_time</th>\n",
       "      <th>stops</th>\n",
       "      <th>arrival_time</th>\n",
       "      <th>destination_city</th>\n",
       "      <th>class</th>\n",
       "      <th>duration</th>\n",
       "      <th>days_left</th>\n",
       "      <th>price</th>\n",
       "    </tr>\n",
       "  </thead>\n",
       "  <tbody>\n",
       "    <tr>\n",
       "      <th>0</th>\n",
       "      <td>0</td>\n",
       "      <td>SpiceJet</td>\n",
       "      <td>SG-8709</td>\n",
       "      <td>Delhi</td>\n",
       "      <td>Evening</td>\n",
       "      <td>zero</td>\n",
       "      <td>Night</td>\n",
       "      <td>Mumbai</td>\n",
       "      <td>Economy</td>\n",
       "      <td>2.17</td>\n",
       "      <td>1</td>\n",
       "      <td>5953</td>\n",
       "    </tr>\n",
       "    <tr>\n",
       "      <th>1</th>\n",
       "      <td>1</td>\n",
       "      <td>SpiceJet</td>\n",
       "      <td>SG-8157</td>\n",
       "      <td>Delhi</td>\n",
       "      <td>Early_Morning</td>\n",
       "      <td>zero</td>\n",
       "      <td>Morning</td>\n",
       "      <td>Mumbai</td>\n",
       "      <td>Economy</td>\n",
       "      <td>2.33</td>\n",
       "      <td>1</td>\n",
       "      <td>5953</td>\n",
       "    </tr>\n",
       "    <tr>\n",
       "      <th>2</th>\n",
       "      <td>2</td>\n",
       "      <td>AirAsia</td>\n",
       "      <td>I5-764</td>\n",
       "      <td>Delhi</td>\n",
       "      <td>Early_Morning</td>\n",
       "      <td>zero</td>\n",
       "      <td>Early_Morning</td>\n",
       "      <td>Mumbai</td>\n",
       "      <td>Economy</td>\n",
       "      <td>2.17</td>\n",
       "      <td>1</td>\n",
       "      <td>5956</td>\n",
       "    </tr>\n",
       "    <tr>\n",
       "      <th>3</th>\n",
       "      <td>3</td>\n",
       "      <td>Vistara</td>\n",
       "      <td>UK-995</td>\n",
       "      <td>Delhi</td>\n",
       "      <td>Morning</td>\n",
       "      <td>zero</td>\n",
       "      <td>Afternoon</td>\n",
       "      <td>Mumbai</td>\n",
       "      <td>Economy</td>\n",
       "      <td>2.25</td>\n",
       "      <td>1</td>\n",
       "      <td>5955</td>\n",
       "    </tr>\n",
       "    <tr>\n",
       "      <th>4</th>\n",
       "      <td>4</td>\n",
       "      <td>Vistara</td>\n",
       "      <td>UK-963</td>\n",
       "      <td>Delhi</td>\n",
       "      <td>Morning</td>\n",
       "      <td>zero</td>\n",
       "      <td>Morning</td>\n",
       "      <td>Mumbai</td>\n",
       "      <td>Economy</td>\n",
       "      <td>2.33</td>\n",
       "      <td>1</td>\n",
       "      <td>5955</td>\n",
       "    </tr>\n",
       "    <tr>\n",
       "      <th>...</th>\n",
       "      <td>...</td>\n",
       "      <td>...</td>\n",
       "      <td>...</td>\n",
       "      <td>...</td>\n",
       "      <td>...</td>\n",
       "      <td>...</td>\n",
       "      <td>...</td>\n",
       "      <td>...</td>\n",
       "      <td>...</td>\n",
       "      <td>...</td>\n",
       "      <td>...</td>\n",
       "      <td>...</td>\n",
       "    </tr>\n",
       "    <tr>\n",
       "      <th>300148</th>\n",
       "      <td>300148</td>\n",
       "      <td>Vistara</td>\n",
       "      <td>UK-822</td>\n",
       "      <td>Chennai</td>\n",
       "      <td>Morning</td>\n",
       "      <td>one</td>\n",
       "      <td>Evening</td>\n",
       "      <td>Hyderabad</td>\n",
       "      <td>Business</td>\n",
       "      <td>10.08</td>\n",
       "      <td>49</td>\n",
       "      <td>69265</td>\n",
       "    </tr>\n",
       "    <tr>\n",
       "      <th>300149</th>\n",
       "      <td>300149</td>\n",
       "      <td>Vistara</td>\n",
       "      <td>UK-826</td>\n",
       "      <td>Chennai</td>\n",
       "      <td>Afternoon</td>\n",
       "      <td>one</td>\n",
       "      <td>Night</td>\n",
       "      <td>Hyderabad</td>\n",
       "      <td>Business</td>\n",
       "      <td>10.42</td>\n",
       "      <td>49</td>\n",
       "      <td>77105</td>\n",
       "    </tr>\n",
       "    <tr>\n",
       "      <th>300150</th>\n",
       "      <td>300150</td>\n",
       "      <td>Vistara</td>\n",
       "      <td>UK-832</td>\n",
       "      <td>Chennai</td>\n",
       "      <td>Early_Morning</td>\n",
       "      <td>one</td>\n",
       "      <td>Night</td>\n",
       "      <td>Hyderabad</td>\n",
       "      <td>Business</td>\n",
       "      <td>13.83</td>\n",
       "      <td>49</td>\n",
       "      <td>79099</td>\n",
       "    </tr>\n",
       "    <tr>\n",
       "      <th>300151</th>\n",
       "      <td>300151</td>\n",
       "      <td>Vistara</td>\n",
       "      <td>UK-828</td>\n",
       "      <td>Chennai</td>\n",
       "      <td>Early_Morning</td>\n",
       "      <td>one</td>\n",
       "      <td>Evening</td>\n",
       "      <td>Hyderabad</td>\n",
       "      <td>Business</td>\n",
       "      <td>10.00</td>\n",
       "      <td>49</td>\n",
       "      <td>81585</td>\n",
       "    </tr>\n",
       "    <tr>\n",
       "      <th>300152</th>\n",
       "      <td>300152</td>\n",
       "      <td>Vistara</td>\n",
       "      <td>UK-822</td>\n",
       "      <td>Chennai</td>\n",
       "      <td>Morning</td>\n",
       "      <td>one</td>\n",
       "      <td>Evening</td>\n",
       "      <td>Hyderabad</td>\n",
       "      <td>Business</td>\n",
       "      <td>10.08</td>\n",
       "      <td>49</td>\n",
       "      <td>81585</td>\n",
       "    </tr>\n",
       "  </tbody>\n",
       "</table>\n",
       "<p>300153 rows × 12 columns</p>\n",
       "</div>"
      ],
      "text/plain": [
       "         index   airline   flight source_city departure_time stops  \\\n",
       "0            0  SpiceJet  SG-8709       Delhi        Evening  zero   \n",
       "1            1  SpiceJet  SG-8157       Delhi  Early_Morning  zero   \n",
       "2            2   AirAsia   I5-764       Delhi  Early_Morning  zero   \n",
       "3            3   Vistara   UK-995       Delhi        Morning  zero   \n",
       "4            4   Vistara   UK-963       Delhi        Morning  zero   \n",
       "...        ...       ...      ...         ...            ...   ...   \n",
       "300148  300148   Vistara   UK-822     Chennai        Morning   one   \n",
       "300149  300149   Vistara   UK-826     Chennai      Afternoon   one   \n",
       "300150  300150   Vistara   UK-832     Chennai  Early_Morning   one   \n",
       "300151  300151   Vistara   UK-828     Chennai  Early_Morning   one   \n",
       "300152  300152   Vistara   UK-822     Chennai        Morning   one   \n",
       "\n",
       "         arrival_time destination_city     class  duration  days_left  price  \n",
       "0               Night           Mumbai   Economy      2.17          1   5953  \n",
       "1             Morning           Mumbai   Economy      2.33          1   5953  \n",
       "2       Early_Morning           Mumbai   Economy      2.17          1   5956  \n",
       "3           Afternoon           Mumbai   Economy      2.25          1   5955  \n",
       "4             Morning           Mumbai   Economy      2.33          1   5955  \n",
       "...               ...              ...       ...       ...        ...    ...  \n",
       "300148        Evening        Hyderabad  Business     10.08         49  69265  \n",
       "300149          Night        Hyderabad  Business     10.42         49  77105  \n",
       "300150          Night        Hyderabad  Business     13.83         49  79099  \n",
       "300151        Evening        Hyderabad  Business     10.00         49  81585  \n",
       "300152        Evening        Hyderabad  Business     10.08         49  81585  \n",
       "\n",
       "[300153 rows x 12 columns]"
      ]
     },
     "execution_count": 8,
     "metadata": {},
     "output_type": "execute_result"
    }
   ],
   "source": [
    "df"
   ]
  },
  {
   "cell_type": "code",
   "execution_count": 9,
   "id": "2637675c",
   "metadata": {},
   "outputs": [],
   "source": [
    "# Here we can see all available column and no. of records in our dataset."
   ]
  },
  {
   "cell_type": "code",
   "execution_count": null,
   "id": "e96bb832-2dcc-4d06-b95e-172c0ad777b0",
   "metadata": {},
   "outputs": [],
   "source": [
    "profile = pp.ProfileReport(df) ## Creating an report of an df"
   ]
  },
  {
   "cell_type": "code",
   "execution_count": null,
   "id": "f33a665a-cb80-4b5e-a287-c5f2bb1a53bc",
   "metadata": {},
   "outputs": [],
   "source": [
    "profile.to_file(\"output.html\") ## Creating an html file of on report."
   ]
  },
  {
   "cell_type": "code",
   "execution_count": 10,
   "id": "246734fd",
   "metadata": {},
   "outputs": [],
   "source": [
    "# checking first 5 records."
   ]
  },
  {
   "cell_type": "code",
   "execution_count": 11,
   "id": "cc0ae089-7fa7-45b6-9a19-580124ea4fe4",
   "metadata": {
    "scrolled": true
   },
   "outputs": [
    {
     "name": "stdout",
     "output_type": "stream",
     "text": [
      "   index   airline   flight source_city departure_time stops   arrival_time  \\\n",
      "0      0  SpiceJet  SG-8709       Delhi        Evening  zero          Night   \n",
      "1      1  SpiceJet  SG-8157       Delhi  Early_Morning  zero        Morning   \n",
      "2      2   AirAsia   I5-764       Delhi  Early_Morning  zero  Early_Morning   \n",
      "3      3   Vistara   UK-995       Delhi        Morning  zero      Afternoon   \n",
      "4      4   Vistara   UK-963       Delhi        Morning  zero        Morning   \n",
      "\n",
      "  destination_city    class  duration  days_left  price  \n",
      "0           Mumbai  Economy      2.17          1   5953  \n",
      "1           Mumbai  Economy      2.33          1   5953  \n",
      "2           Mumbai  Economy      2.17          1   5956  \n",
      "3           Mumbai  Economy      2.25          1   5955  \n",
      "4           Mumbai  Economy      2.33          1   5955  \n"
     ]
    }
   ],
   "source": [
    "print(df.head())"
   ]
  },
  {
   "cell_type": "code",
   "execution_count": 12,
   "id": "9c6e55a2",
   "metadata": {},
   "outputs": [],
   "source": [
    "# df.descibe():- It is used to generate descriptive statistics of the numeric columns in a DataFrame. "
   ]
  },
  {
   "cell_type": "code",
   "execution_count": 13,
   "id": "df7c883c-4e34-4e8a-b335-4e1da861987e",
   "metadata": {
    "scrolled": true
   },
   "outputs": [
    {
     "data": {
      "text/html": [
       "<div>\n",
       "<style scoped>\n",
       "    .dataframe tbody tr th:only-of-type {\n",
       "        vertical-align: middle;\n",
       "    }\n",
       "\n",
       "    .dataframe tbody tr th {\n",
       "        vertical-align: top;\n",
       "    }\n",
       "\n",
       "    .dataframe thead th {\n",
       "        text-align: right;\n",
       "    }\n",
       "</style>\n",
       "<table border=\"1\" class=\"dataframe\">\n",
       "  <thead>\n",
       "    <tr style=\"text-align: right;\">\n",
       "      <th></th>\n",
       "      <th>index</th>\n",
       "      <th>duration</th>\n",
       "      <th>days_left</th>\n",
       "      <th>price</th>\n",
       "    </tr>\n",
       "  </thead>\n",
       "  <tbody>\n",
       "    <tr>\n",
       "      <th>count</th>\n",
       "      <td>300153.000000</td>\n",
       "      <td>300153.000000</td>\n",
       "      <td>300153.000000</td>\n",
       "      <td>300153.000000</td>\n",
       "    </tr>\n",
       "    <tr>\n",
       "      <th>mean</th>\n",
       "      <td>150076.000000</td>\n",
       "      <td>12.221021</td>\n",
       "      <td>26.004751</td>\n",
       "      <td>20889.660523</td>\n",
       "    </tr>\n",
       "    <tr>\n",
       "      <th>std</th>\n",
       "      <td>86646.852011</td>\n",
       "      <td>7.191997</td>\n",
       "      <td>13.561004</td>\n",
       "      <td>22697.767366</td>\n",
       "    </tr>\n",
       "    <tr>\n",
       "      <th>min</th>\n",
       "      <td>0.000000</td>\n",
       "      <td>0.830000</td>\n",
       "      <td>1.000000</td>\n",
       "      <td>1105.000000</td>\n",
       "    </tr>\n",
       "    <tr>\n",
       "      <th>25%</th>\n",
       "      <td>75038.000000</td>\n",
       "      <td>6.830000</td>\n",
       "      <td>15.000000</td>\n",
       "      <td>4783.000000</td>\n",
       "    </tr>\n",
       "    <tr>\n",
       "      <th>50%</th>\n",
       "      <td>150076.000000</td>\n",
       "      <td>11.250000</td>\n",
       "      <td>26.000000</td>\n",
       "      <td>7425.000000</td>\n",
       "    </tr>\n",
       "    <tr>\n",
       "      <th>75%</th>\n",
       "      <td>225114.000000</td>\n",
       "      <td>16.170000</td>\n",
       "      <td>38.000000</td>\n",
       "      <td>42521.000000</td>\n",
       "    </tr>\n",
       "    <tr>\n",
       "      <th>max</th>\n",
       "      <td>300152.000000</td>\n",
       "      <td>49.830000</td>\n",
       "      <td>49.000000</td>\n",
       "      <td>123071.000000</td>\n",
       "    </tr>\n",
       "  </tbody>\n",
       "</table>\n",
       "</div>"
      ],
      "text/plain": [
       "               index       duration      days_left          price\n",
       "count  300153.000000  300153.000000  300153.000000  300153.000000\n",
       "mean   150076.000000      12.221021      26.004751   20889.660523\n",
       "std     86646.852011       7.191997      13.561004   22697.767366\n",
       "min         0.000000       0.830000       1.000000    1105.000000\n",
       "25%     75038.000000       6.830000      15.000000    4783.000000\n",
       "50%    150076.000000      11.250000      26.000000    7425.000000\n",
       "75%    225114.000000      16.170000      38.000000   42521.000000\n",
       "max    300152.000000      49.830000      49.000000  123071.000000"
      ]
     },
     "execution_count": 13,
     "metadata": {},
     "output_type": "execute_result"
    }
   ],
   "source": [
    "df.describe()"
   ]
  },
  {
   "cell_type": "code",
   "execution_count": 14,
   "id": "194bb8c6",
   "metadata": {},
   "outputs": [],
   "source": [
    "# checking data type of all column in dataframe."
   ]
  },
  {
   "cell_type": "code",
   "execution_count": 15,
   "id": "0f8cd4eb-0432-4ea6-961f-0101950a705c",
   "metadata": {
    "scrolled": true
   },
   "outputs": [
    {
     "name": "stdout",
     "output_type": "stream",
     "text": [
      "index                 int64\n",
      "airline              object\n",
      "flight               object\n",
      "source_city          object\n",
      "departure_time       object\n",
      "stops                object\n",
      "arrival_time         object\n",
      "destination_city     object\n",
      "class                object\n",
      "duration            float64\n",
      "days_left             int64\n",
      "price                 int64\n",
      "dtype: object\n"
     ]
    }
   ],
   "source": [
    "print(df.dtypes)"
   ]
  },
  {
   "cell_type": "markdown",
   "id": "e722fe1d-9f3e-4ff4-b6cb-cbeae1ca17cb",
   "metadata": {},
   "source": [
    "### Analyze the airlines:"
   ]
  },
  {
   "cell_type": "code",
   "execution_count": 16,
   "id": "9aa941f5",
   "metadata": {},
   "outputs": [],
   "source": [
    "# counting no of flights per airlines."
   ]
  },
  {
   "cell_type": "code",
   "execution_count": 17,
   "id": "ba5accbb-1065-4588-8bf9-337650bd4a51",
   "metadata": {},
   "outputs": [],
   "source": [
    "flight_count = df['airline'].value_counts()"
   ]
  },
  {
   "cell_type": "code",
   "execution_count": 18,
   "id": "3f4b3483-d07c-434e-9914-814c5e4875f2",
   "metadata": {},
   "outputs": [
    {
     "data": {
      "text/plain": [
       "airline\n",
       "Vistara      127859\n",
       "Air_India     80892\n",
       "Indigo        43120\n",
       "GO_FIRST      23173\n",
       "AirAsia       16098\n",
       "SpiceJet       9011\n",
       "Name: count, dtype: int64"
      ]
     },
     "execution_count": 18,
     "metadata": {},
     "output_type": "execute_result"
    }
   ],
   "source": [
    "flight_count"
   ]
  },
  {
   "cell_type": "code",
   "execution_count": 19,
   "id": "158e2821",
   "metadata": {},
   "outputs": [
    {
     "name": "stdout",
     "output_type": "stream",
     "text": [
      "The airline that operates the most flights is Vistara with 127859 flights.\n"
     ]
    }
   ],
   "source": [
    "most_flights_airline = df['airline'].value_counts().idxmax()\n",
    "most_flights_count = df['airline'].value_counts().max()\n",
    "\n",
    "print(f\"The airline that operates the most flights is {most_flights_airline} with {most_flights_count} flights.\")\n"
   ]
  },
  {
   "cell_type": "code",
   "execution_count": 20,
   "id": "91ef9635",
   "metadata": {},
   "outputs": [],
   "source": [
    "# Here we got a information about no of flights about various airlines in which we can clearly see the VISTARA has the maximum number of flights and SPICEJET has a least no of fights.\n",
    "# Means VISTARA is the market leader in flight indrustry."
   ]
  },
  {
   "cell_type": "code",
   "execution_count": 21,
   "id": "211aa725-a5c7-4f87-a496-4f696b7f4f81",
   "metadata": {},
   "outputs": [
    {
     "data": {
      "image/png": "[encoded data removed]",
      "text/plain": [
       "<Figure size 1000x600 with 1 Axes>"
      ]
     },
     "metadata": {},
     "output_type": "display_data"
    }
   ],
   "source": [
    "plt.figure(figsize=(10,6))\n",
    "colors = ['green'] \n",
    "\n",
    "flight_count.plot(kind = 'bar',color = colors)\n",
    "plt.xlabel('Airline',rotation = 0)\n",
    "plt.ylabel('Number of Flihts')\n",
    "plt.title('Flight Counts by Airline')\n",
    "plt.xticks(rotation=0)  # Set the rotation angle to 45 degrees\n",
    "\n",
    "plt.show()"
   ]
  },
  {
   "cell_type": "code",
   "execution_count": 22,
   "id": "379760cc",
   "metadata": {},
   "outputs": [
    {
     "data": {
      "text/plain": [
       "'In above graph we can see the VISTARA is leading flight indrustry.\\n and GO_FIRST, AirAsia, SpiceJet has a least number of flights.'"
      ]
     },
     "execution_count": 22,
     "metadata": {},
     "output_type": "execute_result"
    }
   ],
   "source": [
    "\"\"\"In above graph we can see the VISTARA is leading flight indrustry.\n",
    " and GO_FIRST, AirAsia, SpiceJet has a least number of flights.\"\"\""
   ]
  },
  {
   "cell_type": "code",
   "execution_count": 23,
   "id": "390e722a",
   "metadata": {},
   "outputs": [
    {
     "name": "stdout",
     "output_type": "stream",
     "text": [
      "     airline  average price  average duration\n",
      "0    AirAsia    4091.072742          8.941714\n",
      "1  Air_India   23507.019112         15.504235\n",
      "2   GO_FIRST    5652.007595          8.755380\n",
      "3     Indigo    5324.216303          5.795197\n",
      "4   SpiceJet    6179.278881         12.579767\n",
      "5    Vistara   30396.536302         13.326634\n"
     ]
    }
   ],
   "source": [
    "#Now we are Calculating average prices for each airline\n",
    "average_prices = df.groupby('airline')['price'].mean()\n",
    "\n",
    "# and average flight durations for each airline\n",
    "average_durations = df.groupby('airline')['duration'].mean()\n",
    "\n",
    "# Creating a summary DataFrame\n",
    "summary_df = pd.DataFrame({\n",
    "    'average price': average_prices,\n",
    "    'average duration': average_durations\n",
    "}).reset_index()\n",
    "\n",
    "print(summary_df)\n"
   ]
  },
  {
   "cell_type": "code",
   "execution_count": 24,
   "id": "714c4b98",
   "metadata": {},
   "outputs": [
    {
     "data": {
      "text/plain": [
       "'Here we can see the average price and average duration for each airline'"
      ]
     },
     "execution_count": 24,
     "metadata": {},
     "output_type": "execute_result"
    }
   ],
   "source": [
    "\"\"\"Here we can see the average price and average duration for each airline\"\"\""
   ]
  },
  {
   "cell_type": "markdown",
   "id": "171f6367",
   "metadata": {},
   "source": [
    "## Calculating the average Flight Pricefor each airline\n"
   ]
  },
  {
   "cell_type": "code",
   "execution_count": 25,
   "id": "ef177449",
   "metadata": {},
   "outputs": [],
   "source": [
    "# Creating new dataframe which is sorted by price"
   ]
  },
  {
   "cell_type": "code",
   "execution_count": 26,
   "id": "fa861d0e",
   "metadata": {},
   "outputs": [],
   "source": [
    "sorted_summary_df_to_price = summary_df.sort_values(by='average price')"
   ]
  },
  {
   "cell_type": "code",
   "execution_count": 27,
   "id": "838ba4ec",
   "metadata": {},
   "outputs": [
    {
     "data": {
      "image/png": "[encoded data removed]",
      "text/plain": [
       "<Figure size 1200x600 with 1 Axes>"
      ]
     },
     "metadata": {},
     "output_type": "display_data"
    }
   ],
   "source": [
    "# Creating a bar chart to compare average price\n",
    "plt.figure(figsize=(12, 6))\n",
    "plt.bar(sorted_summary_df_to_price['airline'], sorted_summary_df_to_price['average price'], label='Average Price', alpha=0.7, color='r')\n",
    "# plt.bar(summary_df['airline'], summary_df['duration_to_price_ratio'], label='duration_to_price_ratio', alpha=0.7, color='g')\n",
    "plt.xlabel('Airline')\n",
    "plt.ylabel('Value')\n",
    "plt.title('Comparison of Average Price by Airline')\n",
    "# plt.xticks(rotation=90)\n",
    "plt.legend()\n",
    "plt.tight_layout()\n",
    "plt.show()"
   ]
  },
  {
   "cell_type": "code",
   "execution_count": 28,
   "id": "2f456262",
   "metadata": {},
   "outputs": [
    {
     "data": {
      "text/plain": [
       "'In above graph we can see that the average price of all the airline and VISTARA has higher average price and AirAsia has lowest average price. '"
      ]
     },
     "execution_count": 28,
     "metadata": {},
     "output_type": "execute_result"
    }
   ],
   "source": [
    "\"\"\"In above graph we can see that the average price of all the airline and VISTARA has higher average price and AirAsia has lowest average price. \"\"\""
   ]
  },
  {
   "cell_type": "markdown",
   "id": "6c1ceb92",
   "metadata": {},
   "source": [
    "## Calculating the average Flight duration for each airline\n"
   ]
  },
  {
   "cell_type": "code",
   "execution_count": 29,
   "id": "5124d25d",
   "metadata": {},
   "outputs": [],
   "source": [
    "# Creating new dataframe which is sorted by duration"
   ]
  },
  {
   "cell_type": "code",
   "execution_count": 30,
   "id": "83523255",
   "metadata": {},
   "outputs": [],
   "source": [
    "sorted_summary_df_to_duration = summary_df.sort_values(by='average duration')"
   ]
  },
  {
   "cell_type": "code",
   "execution_count": 31,
   "id": "057fbba8",
   "metadata": {},
   "outputs": [
    {
     "data": {
      "image/png": "[encoded data removed]",
      "text/plain": [
       "<Figure size 1200x600 with 1 Axes>"
      ]
     },
     "metadata": {},
     "output_type": "display_data"
    }
   ],
   "source": [
    "# Creating a bar chart to compare average duration\n",
    "plt.figure(figsize=(12, 6))\n",
    "plt.bar(sorted_summary_df_to_duration['airline'], sorted_summary_df_to_duration['average duration'], label='average duration', alpha=0.7, color='g')\n",
    "plt.xlabel('Airline')\n",
    "plt.ylabel('Value')\n",
    "plt.title('Comparison of Average Duration by Airline')\n",
    "# plt.xticks(rotation=90)\n",
    "plt.legend()\n",
    "plt.tight_layout()\n",
    "plt.show()"
   ]
  },
  {
   "cell_type": "code",
   "execution_count": 32,
   "id": "3cd822c3",
   "metadata": {},
   "outputs": [
    {
     "data": {
      "text/plain": [
       "'In above graph we can see that the average duration of all the airline and Air_India has higher average duration and Indigo has lowest average duration.\\nmeans Air_India has a long duration flights and Indigo has more short duration flights'"
      ]
     },
     "execution_count": 32,
     "metadata": {},
     "output_type": "execute_result"
    }
   ],
   "source": [
    "\"\"\"In above graph we can see that the average duration of all the airline and Air_India has higher average duration and Indigo has lowest average duration.\n",
    "means Air_India has a long duration flights and Indigo has more short duration flights\"\"\""
   ]
  },
  {
   "cell_type": "markdown",
   "id": "d92cf11f",
   "metadata": {},
   "source": [
    "## Calculating the average Flight duration to average flight price for each airline"
   ]
  },
  {
   "cell_type": "code",
   "execution_count": 33,
   "id": "b50d5f32",
   "metadata": {},
   "outputs": [
    {
     "name": "stdout",
     "output_type": "stream",
     "text": [
      "The airline with the highest duration-to-price ratio is Vistara with a ratio of 2280.89.\n",
      "The airline with the lowest duration-to-price ratio is AirAsia with a ratio of 457.53.\n"
     ]
    }
   ],
   "source": [
    "# Now we are Calculating the ratio of average_duration to average_price\n",
    "summary_df['duration_to_price_ratio'] = summary_df['average price'] / summary_df['average duration']\n",
    "\n",
    "# To Find the airline with the highest and lowest duration-to-price ratio\n",
    "cheapest_ratio_airline = summary_df.loc[summary_df['duration_to_price_ratio'].idxmin()]\n",
    "costliest_ratio_airline = summary_df.loc[summary_df['duration_to_price_ratio'].idxmax()]\n",
    "\n",
    "print(f\"The airline with the highest duration-to-price ratio is {costliest_ratio_airline['airline']} with a ratio of {costliest_ratio_airline['duration_to_price_ratio']:.2f}.\")\n",
    "print(f\"The airline with the lowest duration-to-price ratio is {cheapest_ratio_airline['airline']} with a ratio of {cheapest_ratio_airline['duration_to_price_ratio']:.2f}.\")\n"
   ]
  },
  {
   "cell_type": "code",
   "execution_count": 34,
   "id": "d3acfc4f",
   "metadata": {},
   "outputs": [
    {
     "data": {
      "text/html": [
       "<div>\n",
       "<style scoped>\n",
       "    .dataframe tbody tr th:only-of-type {\n",
       "        vertical-align: middle;\n",
       "    }\n",
       "\n",
       "    .dataframe tbody tr th {\n",
       "        vertical-align: top;\n",
       "    }\n",
       "\n",
       "    .dataframe thead th {\n",
       "        text-align: right;\n",
       "    }\n",
       "</style>\n",
       "<table border=\"1\" class=\"dataframe\">\n",
       "  <thead>\n",
       "    <tr style=\"text-align: right;\">\n",
       "      <th></th>\n",
       "      <th>airline</th>\n",
       "      <th>average price</th>\n",
       "      <th>average duration</th>\n",
       "      <th>duration_to_price_ratio</th>\n",
       "    </tr>\n",
       "  </thead>\n",
       "  <tbody>\n",
       "    <tr>\n",
       "      <th>0</th>\n",
       "      <td>AirAsia</td>\n",
       "      <td>4091.072742</td>\n",
       "      <td>8.941714</td>\n",
       "      <td>457.526657</td>\n",
       "    </tr>\n",
       "    <tr>\n",
       "      <th>1</th>\n",
       "      <td>Air_India</td>\n",
       "      <td>23507.019112</td>\n",
       "      <td>15.504235</td>\n",
       "      <td>1516.167595</td>\n",
       "    </tr>\n",
       "    <tr>\n",
       "      <th>2</th>\n",
       "      <td>GO_FIRST</td>\n",
       "      <td>5652.007595</td>\n",
       "      <td>8.755380</td>\n",
       "      <td>645.546808</td>\n",
       "    </tr>\n",
       "    <tr>\n",
       "      <th>3</th>\n",
       "      <td>Indigo</td>\n",
       "      <td>5324.216303</td>\n",
       "      <td>5.795197</td>\n",
       "      <td>918.729185</td>\n",
       "    </tr>\n",
       "    <tr>\n",
       "      <th>4</th>\n",
       "      <td>SpiceJet</td>\n",
       "      <td>6179.278881</td>\n",
       "      <td>12.579767</td>\n",
       "      <td>491.207739</td>\n",
       "    </tr>\n",
       "    <tr>\n",
       "      <th>5</th>\n",
       "      <td>Vistara</td>\n",
       "      <td>30396.536302</td>\n",
       "      <td>13.326634</td>\n",
       "      <td>2280.886169</td>\n",
       "    </tr>\n",
       "  </tbody>\n",
       "</table>\n",
       "</div>"
      ],
      "text/plain": [
       "     airline  average price  average duration  duration_to_price_ratio\n",
       "0    AirAsia    4091.072742          8.941714               457.526657\n",
       "1  Air_India   23507.019112         15.504235              1516.167595\n",
       "2   GO_FIRST    5652.007595          8.755380               645.546808\n",
       "3     Indigo    5324.216303          5.795197               918.729185\n",
       "4   SpiceJet    6179.278881         12.579767               491.207739\n",
       "5    Vistara   30396.536302         13.326634              2280.886169"
      ]
     },
     "execution_count": 34,
     "metadata": {},
     "output_type": "execute_result"
    }
   ],
   "source": [
    "summary_df"
   ]
  },
  {
   "cell_type": "code",
   "execution_count": 35,
   "id": "ac272525",
   "metadata": {},
   "outputs": [],
   "source": [
    "# Sorting the DataFrame by average_price in ascending order\n",
    "sorted_summary_to_duration_to_price_ratio = summary_df.sort_values(by='average price')"
   ]
  },
  {
   "cell_type": "code",
   "execution_count": 36,
   "id": "ed7b2adc",
   "metadata": {},
   "outputs": [
    {
     "data": {
      "text/html": [
       "<div>\n",
       "<style scoped>\n",
       "    .dataframe tbody tr th:only-of-type {\n",
       "        vertical-align: middle;\n",
       "    }\n",
       "\n",
       "    .dataframe tbody tr th {\n",
       "        vertical-align: top;\n",
       "    }\n",
       "\n",
       "    .dataframe thead th {\n",
       "        text-align: right;\n",
       "    }\n",
       "</style>\n",
       "<table border=\"1\" class=\"dataframe\">\n",
       "  <thead>\n",
       "    <tr style=\"text-align: right;\">\n",
       "      <th></th>\n",
       "      <th>airline</th>\n",
       "      <th>average price</th>\n",
       "      <th>average duration</th>\n",
       "      <th>duration_to_price_ratio</th>\n",
       "    </tr>\n",
       "  </thead>\n",
       "  <tbody>\n",
       "    <tr>\n",
       "      <th>0</th>\n",
       "      <td>AirAsia</td>\n",
       "      <td>4091.072742</td>\n",
       "      <td>8.941714</td>\n",
       "      <td>457.526657</td>\n",
       "    </tr>\n",
       "    <tr>\n",
       "      <th>3</th>\n",
       "      <td>Indigo</td>\n",
       "      <td>5324.216303</td>\n",
       "      <td>5.795197</td>\n",
       "      <td>918.729185</td>\n",
       "    </tr>\n",
       "    <tr>\n",
       "      <th>2</th>\n",
       "      <td>GO_FIRST</td>\n",
       "      <td>5652.007595</td>\n",
       "      <td>8.755380</td>\n",
       "      <td>645.546808</td>\n",
       "    </tr>\n",
       "    <tr>\n",
       "      <th>4</th>\n",
       "      <td>SpiceJet</td>\n",
       "      <td>6179.278881</td>\n",
       "      <td>12.579767</td>\n",
       "      <td>491.207739</td>\n",
       "    </tr>\n",
       "    <tr>\n",
       "      <th>1</th>\n",
       "      <td>Air_India</td>\n",
       "      <td>23507.019112</td>\n",
       "      <td>15.504235</td>\n",
       "      <td>1516.167595</td>\n",
       "    </tr>\n",
       "    <tr>\n",
       "      <th>5</th>\n",
       "      <td>Vistara</td>\n",
       "      <td>30396.536302</td>\n",
       "      <td>13.326634</td>\n",
       "      <td>2280.886169</td>\n",
       "    </tr>\n",
       "  </tbody>\n",
       "</table>\n",
       "</div>"
      ],
      "text/plain": [
       "     airline  average price  average duration  duration_to_price_ratio\n",
       "0    AirAsia    4091.072742          8.941714               457.526657\n",
       "3     Indigo    5324.216303          5.795197               918.729185\n",
       "2   GO_FIRST    5652.007595          8.755380               645.546808\n",
       "4   SpiceJet    6179.278881         12.579767               491.207739\n",
       "1  Air_India   23507.019112         15.504235              1516.167595\n",
       "5    Vistara   30396.536302         13.326634              2280.886169"
      ]
     },
     "execution_count": 36,
     "metadata": {},
     "output_type": "execute_result"
    }
   ],
   "source": [
    "sorted_summary_to_duration_to_price_ratio"
   ]
  },
  {
   "cell_type": "code",
   "execution_count": 37,
   "id": "b4e90d38",
   "metadata": {},
   "outputs": [
    {
     "data": {
      "image/png": "[encoded data removed]",
      "text/plain": [
       "<Figure size 1200x600 with 1 Axes>"
      ]
     },
     "metadata": {},
     "output_type": "display_data"
    }
   ],
   "source": [
    "# Creating a bar chart to compare average duration\n",
    "plt.figure(figsize=(12, 6))\n",
    "plt.bar(sorted_summary_to_duration_to_price_ratio['airline'],\n",
    "        sorted_summary_to_duration_to_price_ratio['duration_to_price_ratio'],\n",
    "        label='average duration', alpha=0.7, color='g')\n",
    "plt.xlabel('Airline')\n",
    "plt.ylabel('Value')\n",
    "plt.title('Comparison of Flight Duration To Price Ratio')\n",
    "# plt.xticks(rotation=90)\n",
    "plt.legend()\n",
    "plt.tight_layout()\n",
    "plt.show()"
   ]
  },
  {
   "cell_type": "markdown",
   "id": "0f14113f",
   "metadata": {},
   "source": [
    "## Identify any correlation between the number of stops and flight price."
   ]
  },
  {
   "cell_type": "code",
   "execution_count": 38,
   "id": "3758dd43",
   "metadata": {},
   "outputs": [],
   "source": [
    "# Here we are finding that the number of stops is affecting to flight price or not?"
   ]
  },
  {
   "cell_type": "code",
   "execution_count": 39,
   "id": "7f65124e",
   "metadata": {},
   "outputs": [],
   "source": [
    "# number of stops is an object column so we have to check the values in that column."
   ]
  },
  {
   "cell_type": "code",
   "execution_count": 40,
   "id": "ed2ea72e",
   "metadata": {},
   "outputs": [
    {
     "name": "stdout",
     "output_type": "stream",
     "text": [
      "['zero' 'one' 'two_or_more']\n"
     ]
    }
   ],
   "source": [
    "unique_values = df['stops'].unique()\n",
    "print(unique_values)"
   ]
  },
  {
   "cell_type": "code",
   "execution_count": 41,
   "id": "3959d8fa",
   "metadata": {},
   "outputs": [],
   "source": [
    "# Now we have to map that column to the number."
   ]
  },
  {
   "cell_type": "code",
   "execution_count": 42,
   "id": "cfdf0535",
   "metadata": {},
   "outputs": [
    {
     "name": "stdout",
     "output_type": "stream",
     "text": [
      "Pearson Correlation Coefficient between number of stops and flight price: -0.08\n"
     ]
    }
   ],
   "source": [
    "# Define a mapping of stop values to numeric equivalents\n",
    "stop_mapping = {\n",
    "    'Zero': 0,\n",
    "    'one': 1,\n",
    "    'two_or_more': 2,\n",
    "}\n",
    "\n",
    "df['stops_numeric'] = df['stops'].map(stop_mapping)\n",
    "\n",
    "# Finding correlation between number of stops and flight price.\n",
    "\n",
    "correlation = df['stops_numeric'].corr(df['price'])\n",
    "\n",
    "print(f\"Pearson Correlation Coefficient between number of stops and flight price: {correlation:.2f}\")\n"
   ]
  },
  {
   "cell_type": "code",
   "execution_count": 43,
   "id": "b45a2bd8",
   "metadata": {},
   "outputs": [
    {
     "data": {
      "text/plain": [
       "'So, we get a correlation coefficient of -0.08, it means there is a weak negative correlation between the number\\nof stops and flight prices. However, the correlation is not strong, and the relationship between these variables may\\nnot be very meaningful or significant.\\nIt means that the number of stops alone is not a strong predictor of flight prices.'"
      ]
     },
     "execution_count": 43,
     "metadata": {},
     "output_type": "execute_result"
    }
   ],
   "source": [
    "\"\"\"So, we get a correlation coefficient of -0.08, it means there is a weak negative correlation between the number\n",
    "of stops and flight prices. However, the correlation is not strong, and the relationship between these variables may\n",
    "not be very meaningful or significant.\n",
    "It means that the number of stops alone is not a strong predictor of flight prices.\"\"\""
   ]
  },
  {
   "cell_type": "code",
   "execution_count": 44,
   "id": "d24dcd00",
   "metadata": {},
   "outputs": [],
   "source": [
    "# Identify which airline offers the best combination of price, duration, and class."
   ]
  },
  {
   "cell_type": "code",
   "execution_count": 45,
   "id": "1aada72e",
   "metadata": {},
   "outputs": [
    {
     "name": "stdout",
     "output_type": "stream",
     "text": [
      "The airline offering the best combination of price and duration is Air_India.\n",
      "Which has a Composite Score: 3.22\n",
      "The airline offering not the best combination of price and duration is Indigo.\n",
      "Which has a Composite Score: -1.22\n"
     ]
    }
   ],
   "source": [
    "# For That we have to define weights for price, and  duration\n",
    "price_weight = 0.5  \n",
    "duration_weight = 0.5\n",
    "\n",
    "df['price_normalized'] = (df['price'] - df['price'].mean()) / df['price'].std()\n",
    "df['duration_normalized'] = (df['duration'] - df['duration'].mean()) / df['duration'].std()\n",
    "\n",
    "df['composite_score'] = (\n",
    "    price_weight * df['price_normalized'] +\n",
    "    duration_weight * df['duration_normalized']\n",
    ")\n",
    "\n",
    "best_airline = df.loc[df['composite_score'].idxmax()]\n",
    "not_best_airline = df.loc[df['composite_score'].idxmin()]\n",
    "\n",
    "# Print the best airline and its composite score\n",
    "print(f\"The airline offering the best combination of price and duration is {best_airline['airline']}.\")\n",
    "print(f\"Which has a Composite Score: {best_airline['composite_score']:.2f}\")\n",
    "\n",
    "print(f\"The airline offering not the best combination of price and duration is {not_best_airline['airline']}.\")\n",
    "print(f\"Which has a Composite Score: {not_best_airline['composite_score']:.2f}\")"
   ]
  },
  {
   "cell_type": "code",
   "execution_count": 46,
   "id": "64b7bfe5",
   "metadata": {},
   "outputs": [],
   "source": [
    "# Here we can Calculate the minimum, maximum, and average flight prices for each airline"
   ]
  },
  {
   "cell_type": "code",
   "execution_count": 47,
   "id": "2d9d5db8",
   "metadata": {},
   "outputs": [],
   "source": [
    "min_price = df.groupby('airline')['price'].min()\n",
    "max_price = df.groupby('airline')['price'].max()\n",
    "avg_price = df.groupby('airline')['price'].mean()"
   ]
  },
  {
   "cell_type": "code",
   "execution_count": 48,
   "id": "ef2d790c-f4cb-4971-85f8-1b28c0579507",
   "metadata": {},
   "outputs": [
    {
     "name": "stdout",
     "output_type": "stream",
     "text": [
      "           Min Price  Max Price     Avg Price\n",
      "airline                                      \n",
      "AirAsia         1105      31917   4091.072742\n",
      "Air_India       1526      90970  23507.019112\n",
      "GO_FIRST        1105      32803   5652.007595\n",
      "Indigo          1105      31952   5324.216303\n",
      "SpiceJet        1106      34158   6179.278881\n",
      "Vistara         1714     123071  30396.536302\n"
     ]
    }
   ],
   "source": [
    "airline_stats = pd.concat([min_price,max_price,avg_price],axis = 1)\n",
    "airline_stats.columns = ['Min Price', 'Max Price', 'Avg Price']\n",
    "\n",
    "print(airline_stats)"
   ]
  },
  {
   "cell_type": "code",
   "execution_count": 49,
   "id": "5632d4a2-d701-420c-8057-b1d96afbdb45",
   "metadata": {},
   "outputs": [
    {
     "data": {
      "image/png": "[encoded data removed]",
      "text/plain": [
       "<Figure size 1500x800 with 1 Axes>"
      ]
     },
     "metadata": {},
     "output_type": "display_data"
    }
   ],
   "source": [
    "airline = ['AirAsia','Air_India','GO_FIRST','Indigo','SpiceJet','Vistara']\n",
    "x = np.arange(len(airline))\n",
    "\n",
    "width = 0.2\n",
    "plt.figure(figsize=(15,8))\n",
    "\n",
    "\n",
    "plt.bar(x - width,airline_stats['Min Price'], width,label = 'Min Price')\n",
    "plt.bar(x + width, airline_stats['Avg Price'], width, label='Avg  Price')\n",
    "plt.bar(x,airline_stats['Max Price'],width, label = 'Max Price')\n",
    "\n",
    "plt.xlabel('Airline')\n",
    "plt.ylabel('Price')\n",
    "plt.title('Flight Prices by Airline')\n",
    "\n",
    "plt.legend()\n",
    "plt.show()"
   ]
  },
  {
   "cell_type": "markdown",
   "id": "3c5c62b9-550c-4f84-b59e-9e6ff1c33537",
   "metadata": {},
   "source": [
    "## Analyze the flight routes by examining the source and destination cities."
   ]
  },
  {
   "cell_type": "code",
   "execution_count": 50,
   "id": "a1f61f45-b726-4719-85a1-0724581f1b1e",
   "metadata": {},
   "outputs": [
    {
     "name": "stdout",
     "output_type": "stream",
     "text": [
      "Number of Flights:  300153\n",
      "Available Airlines : 6\n",
      "Unique source cities : 6\n",
      "Unique destination cities : 6\n"
     ]
    }
   ],
   "source": [
    "print(\"Number of Flights: \", len(df))\n",
    "print(\"Available Airlines :\", df[\"airline\"].nunique())\n",
    "print(\"Unique source cities :\", df['source_city'].nunique())\n",
    "print(\"Unique destination cities :\", df['destination_city'].nunique())"
   ]
  },
  {
   "cell_type": "code",
   "execution_count": null,
   "id": "a88503ff-2dfa-4676-941c-0e88f28c3c5c",
   "metadata": {},
   "outputs": [],
   "source": []
  },
  {
   "cell_type": "code",
   "execution_count": 79,
   "id": "f0d8ee29",
   "metadata": {},
   "outputs": [],
   "source": [
    "airline_counts = df.groupby('airline')['flight'].count().reset_index()"
   ]
  },
  {
   "cell_type": "code",
   "execution_count": 80,
   "id": "e80f74b4",
   "metadata": {},
   "outputs": [
    {
     "data": {
      "text/html": [
       "<div>\n",
       "<style scoped>\n",
       "    .dataframe tbody tr th:only-of-type {\n",
       "        vertical-align: middle;\n",
       "    }\n",
       "\n",
       "    .dataframe tbody tr th {\n",
       "        vertical-align: top;\n",
       "    }\n",
       "\n",
       "    .dataframe thead th {\n",
       "        text-align: right;\n",
       "    }\n",
       "</style>\n",
       "<table border=\"1\" class=\"dataframe\">\n",
       "  <thead>\n",
       "    <tr style=\"text-align: right;\">\n",
       "      <th></th>\n",
       "      <th>airline</th>\n",
       "      <th>flight</th>\n",
       "    </tr>\n",
       "  </thead>\n",
       "  <tbody>\n",
       "    <tr>\n",
       "      <th>0</th>\n",
       "      <td>AirAsia</td>\n",
       "      <td>16098</td>\n",
       "    </tr>\n",
       "    <tr>\n",
       "      <th>1</th>\n",
       "      <td>Air_India</td>\n",
       "      <td>80892</td>\n",
       "    </tr>\n",
       "    <tr>\n",
       "      <th>2</th>\n",
       "      <td>GO_FIRST</td>\n",
       "      <td>23173</td>\n",
       "    </tr>\n",
       "    <tr>\n",
       "      <th>3</th>\n",
       "      <td>Indigo</td>\n",
       "      <td>43120</td>\n",
       "    </tr>\n",
       "    <tr>\n",
       "      <th>4</th>\n",
       "      <td>SpiceJet</td>\n",
       "      <td>9011</td>\n",
       "    </tr>\n",
       "    <tr>\n",
       "      <th>5</th>\n",
       "      <td>Vistara</td>\n",
       "      <td>127859</td>\n",
       "    </tr>\n",
       "  </tbody>\n",
       "</table>\n",
       "</div>"
      ],
      "text/plain": [
       "     airline  flight\n",
       "0    AirAsia   16098\n",
       "1  Air_India   80892\n",
       "2   GO_FIRST   23173\n",
       "3     Indigo   43120\n",
       "4   SpiceJet    9011\n",
       "5    Vistara  127859"
      ]
     },
     "execution_count": 80,
     "metadata": {},
     "output_type": "execute_result"
    }
   ],
   "source": [
    "airline_counts"
   ]
  },
  {
   "cell_type": "code",
   "execution_count": 81,
   "id": "0159882f",
   "metadata": {},
   "outputs": [],
   "source": [
    "number_of_airline_df = pd.DataFrame(airline_counts)"
   ]
  },
  {
   "cell_type": "code",
   "execution_count": 82,
   "id": "ce635c49",
   "metadata": {
    "scrolled": true
   },
   "outputs": [
    {
     "data": {
      "text/html": [
       "<div>\n",
       "<style scoped>\n",
       "    .dataframe tbody tr th:only-of-type {\n",
       "        vertical-align: middle;\n",
       "    }\n",
       "\n",
       "    .dataframe tbody tr th {\n",
       "        vertical-align: top;\n",
       "    }\n",
       "\n",
       "    .dataframe thead th {\n",
       "        text-align: right;\n",
       "    }\n",
       "</style>\n",
       "<table border=\"1\" class=\"dataframe\">\n",
       "  <thead>\n",
       "    <tr style=\"text-align: right;\">\n",
       "      <th></th>\n",
       "      <th>airline</th>\n",
       "      <th>flight</th>\n",
       "    </tr>\n",
       "  </thead>\n",
       "  <tbody>\n",
       "    <tr>\n",
       "      <th>0</th>\n",
       "      <td>AirAsia</td>\n",
       "      <td>16098</td>\n",
       "    </tr>\n",
       "    <tr>\n",
       "      <th>1</th>\n",
       "      <td>Air_India</td>\n",
       "      <td>80892</td>\n",
       "    </tr>\n",
       "    <tr>\n",
       "      <th>2</th>\n",
       "      <td>GO_FIRST</td>\n",
       "      <td>23173</td>\n",
       "    </tr>\n",
       "    <tr>\n",
       "      <th>3</th>\n",
       "      <td>Indigo</td>\n",
       "      <td>43120</td>\n",
       "    </tr>\n",
       "    <tr>\n",
       "      <th>4</th>\n",
       "      <td>SpiceJet</td>\n",
       "      <td>9011</td>\n",
       "    </tr>\n",
       "    <tr>\n",
       "      <th>5</th>\n",
       "      <td>Vistara</td>\n",
       "      <td>127859</td>\n",
       "    </tr>\n",
       "  </tbody>\n",
       "</table>\n",
       "</div>"
      ],
      "text/plain": [
       "     airline  flight\n",
       "0    AirAsia   16098\n",
       "1  Air_India   80892\n",
       "2   GO_FIRST   23173\n",
       "3     Indigo   43120\n",
       "4   SpiceJet    9011\n",
       "5    Vistara  127859"
      ]
     },
     "execution_count": 82,
     "metadata": {},
     "output_type": "execute_result"
    }
   ],
   "source": [
    "number_of_airline_df"
   ]
  },
  {
   "cell_type": "code",
   "execution_count": 84,
   "id": "d5544ea8",
   "metadata": {},
   "outputs": [
    {
     "data": {
      "image/png": "[encoded data removed]",
      "text/plain": [
       "<Figure size 800x800 with 1 Axes>"
      ]
     },
     "metadata": {},
     "output_type": "display_data"
    }
   ],
   "source": [
    "plt.figure(figsize=(8, 8))\n",
    "\n",
    "# Labels for the pie chart (airline names)\n",
    "labels = number_of_airline_df['airline']\n",
    "\n",
    "# Data for the pie chart (number of flights)\n",
    "sizes = number_of_airline_df['flight']\n",
    "\n",
    "# Create the pie chart without exploding any slice\n",
    "plt.pie(sizes, labels=labels, autopct='%1.1f%%', startangle=140)\n",
    "\n",
    "# Set aspect ratio to be equal so that the pie is drawn as a circle\n",
    "plt.axis('equal')\n",
    "\n",
    "# Add a title\n",
    "plt.title('Number of Flights by Airline')\n",
    "\n",
    "# Show the pie chart\n",
    "plt.show()\n"
   ]
  },
  {
   "cell_type": "code",
   "execution_count": 91,
   "id": "5f49c4c9",
   "metadata": {
    "scrolled": true
   },
   "outputs": [],
   "source": [
    "busiest_source_city_counts = df['source_city'].value_counts().reset_index()"
   ]
  },
  {
   "cell_type": "code",
   "execution_count": 92,
   "id": "56af383d",
   "metadata": {},
   "outputs": [
    {
     "data": {
      "text/html": [
       "<div>\n",
       "<style scoped>\n",
       "    .dataframe tbody tr th:only-of-type {\n",
       "        vertical-align: middle;\n",
       "    }\n",
       "\n",
       "    .dataframe tbody tr th {\n",
       "        vertical-align: top;\n",
       "    }\n",
       "\n",
       "    .dataframe thead th {\n",
       "        text-align: right;\n",
       "    }\n",
       "</style>\n",
       "<table border=\"1\" class=\"dataframe\">\n",
       "  <thead>\n",
       "    <tr style=\"text-align: right;\">\n",
       "      <th></th>\n",
       "      <th>source_city</th>\n",
       "      <th>count</th>\n",
       "    </tr>\n",
       "  </thead>\n",
       "  <tbody>\n",
       "    <tr>\n",
       "      <th>0</th>\n",
       "      <td>Delhi</td>\n",
       "      <td>61343</td>\n",
       "    </tr>\n",
       "    <tr>\n",
       "      <th>1</th>\n",
       "      <td>Mumbai</td>\n",
       "      <td>60896</td>\n",
       "    </tr>\n",
       "    <tr>\n",
       "      <th>2</th>\n",
       "      <td>Bangalore</td>\n",
       "      <td>52061</td>\n",
       "    </tr>\n",
       "    <tr>\n",
       "      <th>3</th>\n",
       "      <td>Kolkata</td>\n",
       "      <td>46347</td>\n",
       "    </tr>\n",
       "    <tr>\n",
       "      <th>4</th>\n",
       "      <td>Hyderabad</td>\n",
       "      <td>40806</td>\n",
       "    </tr>\n",
       "    <tr>\n",
       "      <th>5</th>\n",
       "      <td>Chennai</td>\n",
       "      <td>38700</td>\n",
       "    </tr>\n",
       "  </tbody>\n",
       "</table>\n",
       "</div>"
      ],
      "text/plain": [
       "  source_city  count\n",
       "0       Delhi  61343\n",
       "1      Mumbai  60896\n",
       "2   Bangalore  52061\n",
       "3     Kolkata  46347\n",
       "4   Hyderabad  40806\n",
       "5     Chennai  38700"
      ]
     },
     "execution_count": 92,
     "metadata": {},
     "output_type": "execute_result"
    }
   ],
   "source": [
    "busiest_source_city_counts"
   ]
  },
  {
   "cell_type": "code",
   "execution_count": 95,
   "id": "80e12dc9",
   "metadata": {},
   "outputs": [
    {
     "data": {
      "image/png": "[encoded data removed]",
      "text/plain": [
       "<Figure size 1000x600 with 1 Axes>"
      ]
     },
     "metadata": {},
     "output_type": "display_data"
    }
   ],
   "source": [
    "# Create a horizontal bar chart\n",
    "plt.figure(figsize=(10, 6))  # Adjust the figure size as needed\n",
    "\n",
    "# Plot the horizontal bars\n",
    "plt.barh(busiest_source_city_counts['source_city'], busiest_source_city_counts['count'], color='skyblue')\n",
    "\n",
    "# Set labels and title\n",
    "plt.xlabel('Count')\n",
    "plt.ylabel('Source City')\n",
    "plt.title('Count of Flights by Source City')\n",
    "\n",
    "# Show the chart\n",
    "plt.show()\n"
   ]
  },
  {
   "cell_type": "code",
   "execution_count": 101,
   "id": "fc96d8e2",
   "metadata": {},
   "outputs": [
    {
     "data": {
      "text/plain": [
       "'In above graph we can see the delhi and mumbai are the busiest city.'"
      ]
     },
     "execution_count": 101,
     "metadata": {},
     "output_type": "execute_result"
    }
   ],
   "source": [
    "\"\"\"In above graph we can see the delhi and mumbai are the busiest city.\"\"\""
   ]
  },
  {
   "cell_type": "code",
   "execution_count": 93,
   "id": "3d400f72",
   "metadata": {},
   "outputs": [],
   "source": [
    "busiest_destination_city_counts = df['destination_city'].value_counts().reset_index()"
   ]
  },
  {
   "cell_type": "code",
   "execution_count": 94,
   "id": "2dcac16b",
   "metadata": {},
   "outputs": [
    {
     "data": {
      "text/html": [
       "<div>\n",
       "<style scoped>\n",
       "    .dataframe tbody tr th:only-of-type {\n",
       "        vertical-align: middle;\n",
       "    }\n",
       "\n",
       "    .dataframe tbody tr th {\n",
       "        vertical-align: top;\n",
       "    }\n",
       "\n",
       "    .dataframe thead th {\n",
       "        text-align: right;\n",
       "    }\n",
       "</style>\n",
       "<table border=\"1\" class=\"dataframe\">\n",
       "  <thead>\n",
       "    <tr style=\"text-align: right;\">\n",
       "      <th></th>\n",
       "      <th>destination_city</th>\n",
       "      <th>count</th>\n",
       "    </tr>\n",
       "  </thead>\n",
       "  <tbody>\n",
       "    <tr>\n",
       "      <th>0</th>\n",
       "      <td>Mumbai</td>\n",
       "      <td>59097</td>\n",
       "    </tr>\n",
       "    <tr>\n",
       "      <th>1</th>\n",
       "      <td>Delhi</td>\n",
       "      <td>57360</td>\n",
       "    </tr>\n",
       "    <tr>\n",
       "      <th>2</th>\n",
       "      <td>Bangalore</td>\n",
       "      <td>51068</td>\n",
       "    </tr>\n",
       "    <tr>\n",
       "      <th>3</th>\n",
       "      <td>Kolkata</td>\n",
       "      <td>49534</td>\n",
       "    </tr>\n",
       "    <tr>\n",
       "      <th>4</th>\n",
       "      <td>Hyderabad</td>\n",
       "      <td>42726</td>\n",
       "    </tr>\n",
       "    <tr>\n",
       "      <th>5</th>\n",
       "      <td>Chennai</td>\n",
       "      <td>40368</td>\n",
       "    </tr>\n",
       "  </tbody>\n",
       "</table>\n",
       "</div>"
      ],
      "text/plain": [
       "  destination_city  count\n",
       "0           Mumbai  59097\n",
       "1            Delhi  57360\n",
       "2        Bangalore  51068\n",
       "3          Kolkata  49534\n",
       "4        Hyderabad  42726\n",
       "5          Chennai  40368"
      ]
     },
     "execution_count": 94,
     "metadata": {},
     "output_type": "execute_result"
    }
   ],
   "source": [
    "busiest_destination_city_counts"
   ]
  },
  {
   "cell_type": "code",
   "execution_count": 104,
   "id": "994bc027",
   "metadata": {},
   "outputs": [
    {
     "data": {
      "image/png": "[encoded data removed]",
      "text/plain": [
       "<Figure size 1000x600 with 1 Axes>"
      ]
     },
     "metadata": {},
     "output_type": "display_data"
    }
   ],
   "source": [
    "# Create a horizontal bar chart\n",
    "plt.figure(figsize=(10, 6))  # Adjust the figure size as needed\n",
    "\n",
    "# Plot the horizontal bars\n",
    "plt.barh(busiest_destination_city_counts['destination_city'], busiest_destination_city_counts['count'], color='skyblue')\n",
    "\n",
    "# Set labels and title\n",
    "plt.xlabel('Count')\n",
    "plt.ylabel('destination_city')\n",
    "plt.title('Count of Flights by destination City')\n",
    "\n",
    "# Show the chart\n",
    "plt.show()\n"
   ]
  },
  {
   "cell_type": "code",
   "execution_count": 109,
   "id": "390f8d99",
   "metadata": {},
   "outputs": [
    {
     "data": {
      "text/plain": [
       "'In above chart we can see the mumbai and delhi is busiest city as the destination city'"
      ]
     },
     "execution_count": 109,
     "metadata": {},
     "output_type": "execute_result"
    }
   ],
   "source": [
    "\"\"\"In above chart we can see the mumbai and delhi is busiest city as the destination city\"\"\""
   ]
  },
  {
   "cell_type": "code",
   "execution_count": 110,
   "id": "6d05dbeb-0416-48b1-8139-743a149ad0c0",
   "metadata": {},
   "outputs": [
    {
     "data": {
      "text/plain": [
       "0.20422236784542708"
      ]
     },
     "execution_count": 110,
     "metadata": {},
     "output_type": "execute_result"
    }
   ],
   "source": [
    "# Correlation between Duration and Price\n",
    "correlation = df['duration'].corr(df['price'])\n",
    "correlation"
   ]
  },
  {
   "cell_type": "code",
   "execution_count": 108,
   "id": "0b3e5c37-faf1-4dca-8fb1-2ee66b2f4639",
   "metadata": {},
   "outputs": [
    {
     "data": {
      "text/html": [
       "<div>\n",
       "<style scoped>\n",
       "    .dataframe tbody tr th:only-of-type {\n",
       "        vertical-align: middle;\n",
       "    }\n",
       "\n",
       "    .dataframe tbody tr th {\n",
       "        vertical-align: top;\n",
       "    }\n",
       "\n",
       "    .dataframe thead th {\n",
       "        text-align: right;\n",
       "    }\n",
       "</style>\n",
       "<table border=\"1\" class=\"dataframe\">\n",
       "  <thead>\n",
       "    <tr style=\"text-align: right;\">\n",
       "      <th></th>\n",
       "      <th>index</th>\n",
       "      <th>airline</th>\n",
       "      <th>flight</th>\n",
       "      <th>source_city</th>\n",
       "      <th>departure_time</th>\n",
       "      <th>stops</th>\n",
       "      <th>arrival_time</th>\n",
       "      <th>destination_city</th>\n",
       "      <th>class</th>\n",
       "      <th>duration</th>\n",
       "      <th>days_left</th>\n",
       "      <th>price</th>\n",
       "      <th>stops_numeric</th>\n",
       "      <th>price_normalized</th>\n",
       "      <th>duration_normalized</th>\n",
       "      <th>composite_score</th>\n",
       "    </tr>\n",
       "  </thead>\n",
       "  <tbody>\n",
       "    <tr>\n",
       "      <th>0</th>\n",
       "      <td>0</td>\n",
       "      <td>SpiceJet</td>\n",
       "      <td>SG-8709</td>\n",
       "      <td>Delhi</td>\n",
       "      <td>Evening</td>\n",
       "      <td>zero</td>\n",
       "      <td>Night</td>\n",
       "      <td>Mumbai</td>\n",
       "      <td>Economy</td>\n",
       "      <td>2.17</td>\n",
       "      <td>1</td>\n",
       "      <td>5953</td>\n",
       "      <td>NaN</td>\n",
       "      <td>-0.658067</td>\n",
       "      <td>-1.397528</td>\n",
       "      <td>-1.027798</td>\n",
       "    </tr>\n",
       "    <tr>\n",
       "      <th>1</th>\n",
       "      <td>1</td>\n",
       "      <td>SpiceJet</td>\n",
       "      <td>SG-8157</td>\n",
       "      <td>Delhi</td>\n",
       "      <td>Early_Morning</td>\n",
       "      <td>zero</td>\n",
       "      <td>Morning</td>\n",
       "      <td>Mumbai</td>\n",
       "      <td>Economy</td>\n",
       "      <td>2.33</td>\n",
       "      <td>1</td>\n",
       "      <td>5953</td>\n",
       "      <td>NaN</td>\n",
       "      <td>-0.658067</td>\n",
       "      <td>-1.375282</td>\n",
       "      <td>-1.016674</td>\n",
       "    </tr>\n",
       "    <tr>\n",
       "      <th>2</th>\n",
       "      <td>2</td>\n",
       "      <td>AirAsia</td>\n",
       "      <td>I5-764</td>\n",
       "      <td>Delhi</td>\n",
       "      <td>Early_Morning</td>\n",
       "      <td>zero</td>\n",
       "      <td>Early_Morning</td>\n",
       "      <td>Mumbai</td>\n",
       "      <td>Economy</td>\n",
       "      <td>2.17</td>\n",
       "      <td>1</td>\n",
       "      <td>5956</td>\n",
       "      <td>NaN</td>\n",
       "      <td>-0.657935</td>\n",
       "      <td>-1.397528</td>\n",
       "      <td>-1.027732</td>\n",
       "    </tr>\n",
       "    <tr>\n",
       "      <th>3</th>\n",
       "      <td>3</td>\n",
       "      <td>Vistara</td>\n",
       "      <td>UK-995</td>\n",
       "      <td>Delhi</td>\n",
       "      <td>Morning</td>\n",
       "      <td>zero</td>\n",
       "      <td>Afternoon</td>\n",
       "      <td>Mumbai</td>\n",
       "      <td>Economy</td>\n",
       "      <td>2.25</td>\n",
       "      <td>1</td>\n",
       "      <td>5955</td>\n",
       "      <td>NaN</td>\n",
       "      <td>-0.657979</td>\n",
       "      <td>-1.386405</td>\n",
       "      <td>-1.022192</td>\n",
       "    </tr>\n",
       "    <tr>\n",
       "      <th>4</th>\n",
       "      <td>4</td>\n",
       "      <td>Vistara</td>\n",
       "      <td>UK-963</td>\n",
       "      <td>Delhi</td>\n",
       "      <td>Morning</td>\n",
       "      <td>zero</td>\n",
       "      <td>Morning</td>\n",
       "      <td>Mumbai</td>\n",
       "      <td>Economy</td>\n",
       "      <td>2.33</td>\n",
       "      <td>1</td>\n",
       "      <td>5955</td>\n",
       "      <td>NaN</td>\n",
       "      <td>-0.657979</td>\n",
       "      <td>-1.375282</td>\n",
       "      <td>-1.016630</td>\n",
       "    </tr>\n",
       "    <tr>\n",
       "      <th>...</th>\n",
       "      <td>...</td>\n",
       "      <td>...</td>\n",
       "      <td>...</td>\n",
       "      <td>...</td>\n",
       "      <td>...</td>\n",
       "      <td>...</td>\n",
       "      <td>...</td>\n",
       "      <td>...</td>\n",
       "      <td>...</td>\n",
       "      <td>...</td>\n",
       "      <td>...</td>\n",
       "      <td>...</td>\n",
       "      <td>...</td>\n",
       "      <td>...</td>\n",
       "      <td>...</td>\n",
       "      <td>...</td>\n",
       "    </tr>\n",
       "    <tr>\n",
       "      <th>300148</th>\n",
       "      <td>300148</td>\n",
       "      <td>Vistara</td>\n",
       "      <td>UK-822</td>\n",
       "      <td>Chennai</td>\n",
       "      <td>Morning</td>\n",
       "      <td>one</td>\n",
       "      <td>Evening</td>\n",
       "      <td>Hyderabad</td>\n",
       "      <td>Business</td>\n",
       "      <td>10.08</td>\n",
       "      <td>49</td>\n",
       "      <td>69265</td>\n",
       "      <td>1.0</td>\n",
       "      <td>2.131282</td>\n",
       "      <td>-0.297695</td>\n",
       "      <td>0.916793</td>\n",
       "    </tr>\n",
       "    <tr>\n",
       "      <th>300149</th>\n",
       "      <td>300149</td>\n",
       "      <td>Vistara</td>\n",
       "      <td>UK-826</td>\n",
       "      <td>Chennai</td>\n",
       "      <td>Afternoon</td>\n",
       "      <td>one</td>\n",
       "      <td>Night</td>\n",
       "      <td>Hyderabad</td>\n",
       "      <td>Business</td>\n",
       "      <td>10.42</td>\n",
       "      <td>49</td>\n",
       "      <td>77105</td>\n",
       "      <td>1.0</td>\n",
       "      <td>2.476690</td>\n",
       "      <td>-0.250420</td>\n",
       "      <td>1.113135</td>\n",
       "    </tr>\n",
       "    <tr>\n",
       "      <th>300150</th>\n",
       "      <td>300150</td>\n",
       "      <td>Vistara</td>\n",
       "      <td>UK-832</td>\n",
       "      <td>Chennai</td>\n",
       "      <td>Early_Morning</td>\n",
       "      <td>one</td>\n",
       "      <td>Night</td>\n",
       "      <td>Hyderabad</td>\n",
       "      <td>Business</td>\n",
       "      <td>13.83</td>\n",
       "      <td>49</td>\n",
       "      <td>79099</td>\n",
       "      <td>1.0</td>\n",
       "      <td>2.564540</td>\n",
       "      <td>0.223718</td>\n",
       "      <td>1.394129</td>\n",
       "    </tr>\n",
       "    <tr>\n",
       "      <th>300151</th>\n",
       "      <td>300151</td>\n",
       "      <td>Vistara</td>\n",
       "      <td>UK-828</td>\n",
       "      <td>Chennai</td>\n",
       "      <td>Early_Morning</td>\n",
       "      <td>one</td>\n",
       "      <td>Evening</td>\n",
       "      <td>Hyderabad</td>\n",
       "      <td>Business</td>\n",
       "      <td>10.00</td>\n",
       "      <td>49</td>\n",
       "      <td>81585</td>\n",
       "      <td>1.0</td>\n",
       "      <td>2.674067</td>\n",
       "      <td>-0.308818</td>\n",
       "      <td>1.182624</td>\n",
       "    </tr>\n",
       "    <tr>\n",
       "      <th>300152</th>\n",
       "      <td>300152</td>\n",
       "      <td>Vistara</td>\n",
       "      <td>UK-822</td>\n",
       "      <td>Chennai</td>\n",
       "      <td>Morning</td>\n",
       "      <td>one</td>\n",
       "      <td>Evening</td>\n",
       "      <td>Hyderabad</td>\n",
       "      <td>Business</td>\n",
       "      <td>10.08</td>\n",
       "      <td>49</td>\n",
       "      <td>81585</td>\n",
       "      <td>1.0</td>\n",
       "      <td>2.674067</td>\n",
       "      <td>-0.297695</td>\n",
       "      <td>1.188186</td>\n",
       "    </tr>\n",
       "  </tbody>\n",
       "</table>\n",
       "<p>300153 rows × 16 columns</p>\n",
       "</div>"
      ],
      "text/plain": [
       "         index   airline   flight source_city departure_time stops  \\\n",
       "0            0  SpiceJet  SG-8709       Delhi        Evening  zero   \n",
       "1            1  SpiceJet  SG-8157       Delhi  Early_Morning  zero   \n",
       "2            2   AirAsia   I5-764       Delhi  Early_Morning  zero   \n",
       "3            3   Vistara   UK-995       Delhi        Morning  zero   \n",
       "4            4   Vistara   UK-963       Delhi        Morning  zero   \n",
       "...        ...       ...      ...         ...            ...   ...   \n",
       "300148  300148   Vistara   UK-822     Chennai        Morning   one   \n",
       "300149  300149   Vistara   UK-826     Chennai      Afternoon   one   \n",
       "300150  300150   Vistara   UK-832     Chennai  Early_Morning   one   \n",
       "300151  300151   Vistara   UK-828     Chennai  Early_Morning   one   \n",
       "300152  300152   Vistara   UK-822     Chennai        Morning   one   \n",
       "\n",
       "         arrival_time destination_city     class  duration  days_left  price  \\\n",
       "0               Night           Mumbai   Economy      2.17          1   5953   \n",
       "1             Morning           Mumbai   Economy      2.33          1   5953   \n",
       "2       Early_Morning           Mumbai   Economy      2.17          1   5956   \n",
       "3           Afternoon           Mumbai   Economy      2.25          1   5955   \n",
       "4             Morning           Mumbai   Economy      2.33          1   5955   \n",
       "...               ...              ...       ...       ...        ...    ...   \n",
       "300148        Evening        Hyderabad  Business     10.08         49  69265   \n",
       "300149          Night        Hyderabad  Business     10.42         49  77105   \n",
       "300150          Night        Hyderabad  Business     13.83         49  79099   \n",
       "300151        Evening        Hyderabad  Business     10.00         49  81585   \n",
       "300152        Evening        Hyderabad  Business     10.08         49  81585   \n",
       "\n",
       "        stops_numeric  price_normalized  duration_normalized  composite_score  \n",
       "0                 NaN         -0.658067            -1.397528        -1.027798  \n",
       "1                 NaN         -0.658067            -1.375282        -1.016674  \n",
       "2                 NaN         -0.657935            -1.397528        -1.027732  \n",
       "3                 NaN         -0.657979            -1.386405        -1.022192  \n",
       "4                 NaN         -0.657979            -1.375282        -1.016630  \n",
       "...               ...               ...                  ...              ...  \n",
       "300148            1.0          2.131282            -0.297695         0.916793  \n",
       "300149            1.0          2.476690            -0.250420         1.113135  \n",
       "300150            1.0          2.564540             0.223718         1.394129  \n",
       "300151            1.0          2.674067            -0.308818         1.182624  \n",
       "300152            1.0          2.674067            -0.297695         1.188186  \n",
       "\n",
       "[300153 rows x 16 columns]"
      ]
     },
     "execution_count": 108,
     "metadata": {},
     "output_type": "execute_result"
    }
   ],
   "source": [
    "df"
   ]
  },
  {
   "cell_type": "markdown",
   "id": "f92059a3-9a78-4127-8471-d2c8f6380165",
   "metadata": {},
   "source": [
    "## Time Analysis:"
   ]
  },
  {
   "cell_type": "code",
   "execution_count": 120,
   "id": "558aac86-b87a-4abe-a7d8-a462be830ecb",
   "metadata": {},
   "outputs": [],
   "source": [
    "# now we have to find a peak arrival time and peak departure time."
   ]
  },
  {
   "cell_type": "code",
   "execution_count": 121,
   "id": "08d81c71-7b25-45f7-83b9-cf31a3772a67",
   "metadata": {},
   "outputs": [
    {
     "name": "stdout",
     "output_type": "stream",
     "text": [
      "Peak Arrival Time Categories: ['nignt']\n",
      "Peak Departure Time Categories: ['morning']\n"
     ]
    }
   ],
   "source": [
    "# Group flights by arrival time period\n",
    "arrival_counts = df['arrival_time'].value_counts()\n",
    "\n",
    "# Define time categories\n",
    "time_categories  = {'morning' : ['Morning'],\n",
    "            'early_morning' : ['Early_Morning'],\n",
    "             'evening' : ['Evening'],\n",
    "              'afternoon' : ['Afternoon'],\n",
    "               'nignt' : ['Night'],\n",
    "           }\n",
    "\n",
    "df['arrival_time_category'] = df['arrival_time'].map(\n",
    "    lambda x: next((key for key, values in time_categories .items() if x in values), None)\n",
    ")\n",
    "\n",
    "# Group flights by arrival time category\n",
    "arrival_category_counts = df['arrival_time_category'].value_counts()\n",
    "\n",
    "# Identify peak arrival time categories\n",
    "peak_arrival_categories = arrival_category_counts[arrival_category_counts == arrival_category_counts.max()].index.tolist()\n",
    "\n",
    "# Group flights by departure time period\n",
    "departure_counts = df['departure_time'].value_counts()\n",
    "\n",
    "# Create a new column to map time categories for departure time\n",
    "df['departure_time_category'] = df['departure_time'].map(\n",
    "    lambda x: next((key for key, values in time_categories.items() if x in values), None)\n",
    ")\n",
    "\n",
    "# Group flights by departure time category\n",
    "departure_category_counts = df['departure_time_category'].value_counts()\n",
    "\n",
    "# Identify peak departure time categories\n",
    "peak_departure_categories = departure_category_counts[departure_category_counts == departure_category_counts.max()].index.tolist()\n",
    "\n",
    "print(\"Peak Arrival Time Categories:\", peak_arrival_categories)\n",
    "print(\"Peak Departure Time Categories:\", peak_departure_categories)"
   ]
  },
  {
   "cell_type": "code",
   "execution_count": 123,
   "id": "4ad8c0d0",
   "metadata": {},
   "outputs": [],
   "source": [
    "# Here is city wise peak arrival time and peak depearture time. "
   ]
  },
  {
   "cell_type": "code",
   "execution_count": 124,
   "id": "71c629d0-b18f-44af-a985-58dabe6a73f1",
   "metadata": {},
   "outputs": [],
   "source": [
    "source_arrival_counts = df.groupby(['source_city', 'arrival_time_category']).size()\n",
    "source_departure_counts = df.groupby(['source_city', 'departure_time_category']).size()"
   ]
  },
  {
   "cell_type": "code",
   "execution_count": 116,
   "id": "1e5a3c4f-ff13-4425-a049-e4d5c6a53dd8",
   "metadata": {},
   "outputs": [
    {
     "data": {
      "text/plain": [
       "source_city  arrival_time_category\n",
       "Bangalore    afternoon                 6992\n",
       "             early_morning             3154\n",
       "             evening                  14493\n",
       "             morning                  10411\n",
       "             nignt                    14338\n",
       "Chennai      afternoon                 5152\n",
       "             early_morning             1606\n",
       "             evening                  10830\n",
       "             morning                   7106\n",
       "             nignt                    12007\n",
       "Delhi        afternoon                 8007\n",
       "             early_morning             5262\n",
       "             evening                  14630\n",
       "             morning                  13007\n",
       "             nignt                    18294\n",
       "Hyderabad    afternoon                 4816\n",
       "             early_morning             1581\n",
       "             evening                  10539\n",
       "             morning                   8854\n",
       "             nignt                    12924\n",
       "Kolkata      afternoon                 5941\n",
       "             early_morning             2156\n",
       "             evening                  11304\n",
       "             morning                   9595\n",
       "             nignt                    14937\n",
       "Mumbai       afternoon                 7231\n",
       "             early_morning             1658\n",
       "             evening                  16527\n",
       "             morning                  13762\n",
       "             nignt                    19038\n",
       "dtype: int64"
      ]
     },
     "execution_count": 116,
     "metadata": {},
     "output_type": "execute_result"
    }
   ],
   "source": [
    "source_arrival_counts"
   ]
  },
  {
   "cell_type": "code",
   "execution_count": 125,
   "id": "e2c79bde-13ee-4cf7-8feb-cd1b576e6bc5",
   "metadata": {},
   "outputs": [
    {
     "data": {
      "text/plain": [
       "source_city  departure_time_category\n",
       "Bangalore    afternoon                   5183\n",
       "             early_morning              13611\n",
       "             evening                    14243\n",
       "             morning                    12323\n",
       "             nignt                       6244\n",
       "Chennai      afternoon                   5807\n",
       "             early_morning               9319\n",
       "             evening                     5402\n",
       "             morning                    10550\n",
       "             nignt                       7550\n",
       "Delhi        afternoon                  11234\n",
       "             early_morning              12248\n",
       "             evening                    16790\n",
       "             morning                    13679\n",
       "             nignt                       7035\n",
       "Hyderabad    afternoon                   7221\n",
       "             early_morning               8524\n",
       "             evening                     5991\n",
       "             morning                     9923\n",
       "             nignt                       9109\n",
       "Kolkata      afternoon                   7863\n",
       "             early_morning               8133\n",
       "             evening                     9594\n",
       "             morning                    12065\n",
       "             nignt                       8578\n",
       "Mumbai       afternoon                  10486\n",
       "             early_morning              14955\n",
       "             evening                    13082\n",
       "             morning                    12606\n",
       "             nignt                       9499\n",
       "dtype: int64"
      ]
     },
     "execution_count": 125,
     "metadata": {},
     "output_type": "execute_result"
    }
   ],
   "source": [
    "source_departure_counts"
   ]
  },
  {
   "cell_type": "code",
   "execution_count": 126,
   "id": "8484d5c7-4556-4b63-bed1-0399963b06e1",
   "metadata": {},
   "outputs": [
    {
     "data": {
      "text/plain": [
       "('Mumbai', 'nignt')"
      ]
     },
     "execution_count": 126,
     "metadata": {},
     "output_type": "execute_result"
    }
   ],
   "source": [
    "source_arrival_counts.idxmax()"
   ]
  },
  {
   "cell_type": "code",
   "execution_count": 127,
   "id": "1d3c1c8c-d3c9-4393-acde-0e5e05d34243",
   "metadata": {},
   "outputs": [
    {
     "data": {
      "text/plain": [
       "('Delhi', 'evening')"
      ]
     },
     "execution_count": 127,
     "metadata": {},
     "output_type": "execute_result"
    }
   ],
   "source": [
    "source_departure_counts.idxmax()"
   ]
  },
  {
   "cell_type": "code",
   "execution_count": 131,
   "id": "18bb558a",
   "metadata": {},
   "outputs": [
    {
     "data": {
      "image/png": "[encoded data removed]",
      "text/plain": [
       "<Figure size 1200x600 with 1 Axes>"
      ]
     },
     "metadata": {},
     "output_type": "display_data"
    }
   ],
   "source": [
    "# Create a count plot for departure times by city\n",
    "plt.figure(figsize=(12, 6))\n",
    "sns.countplot(data=df, x='source_city', hue='departure_time', palette='husl')\n",
    "plt.title('Number of Flights by Departure Time (Departing Cities)')\n",
    "plt.xlabel('Source City')\n",
    "plt.ylabel('Number of Flights')\n",
    "\n",
    "# Show the plots\n",
    "plt.tight_layout()\n",
    "plt.show()\n"
   ]
  },
  {
   "cell_type": "code",
   "execution_count": 133,
   "id": "439c5c66",
   "metadata": {},
   "outputs": [
    {
     "data": {
      "text/plain": [
       "'In above graph we can see that all citys deperture time with respected to number of flights.'"
      ]
     },
     "execution_count": 133,
     "metadata": {},
     "output_type": "execute_result"
    }
   ],
   "source": [
    "\"\"\"In above graph we can see peak time all citys deperture time with respected to number of flights.\"\"\""
   ]
  },
  {
   "cell_type": "code",
   "execution_count": 132,
   "id": "5435cde8",
   "metadata": {},
   "outputs": [
    {
     "data": {
      "image/png": "[encoded data removed]",
      "text/plain": [
       "<Figure size 1200x600 with 1 Axes>"
      ]
     },
     "metadata": {},
     "output_type": "display_data"
    }
   ],
   "source": [
    "# Create a count plot for arrival times by city\n",
    "plt.figure(figsize=(12, 6))\n",
    "sns.countplot(data=df, x='destination_city', hue='arrival_time', palette='husl')\n",
    "plt.title('Number of Flights by Arrival Time (Arriving Cities)')\n",
    "plt.xlabel('Destination City')\n",
    "plt.ylabel('Number of Flights')\n",
    "\n",
    "# Show the plots\n",
    "plt.tight_layout()\n",
    "plt.show()"
   ]
  },
  {
   "cell_type": "code",
   "execution_count": 134,
   "id": "ec80e668",
   "metadata": {},
   "outputs": [
    {
     "data": {
      "text/plain": [
       "'In above graph we can see that all citys arrival time with respected to number of flights.'"
      ]
     },
     "execution_count": 134,
     "metadata": {},
     "output_type": "execute_result"
    }
   ],
   "source": [
    "\"\"\"In above graph we can see peak time all citys arrival time with respected to number of flights.\"\"\""
   ]
  }
 ],
 "metadata": {
  "kernelspec": {
   "display_name": "Python 3 (ipykernel)",
   "language": "python",
   "name": "python3"
  },
  "language_info": {
   "codemirror_mode": {
    "name": "ipython",
    "version": 3
   },
   "file_extension": ".py",
   "mimetype": "text/x-python",
   "name": "python",
   "nbconvert_exporter": "python",
   "pygments_lexer": "ipython3",
   "version": "3.11.4"
  }
 },
 "nbformat": 4,
 "nbformat_minor": 5
}
